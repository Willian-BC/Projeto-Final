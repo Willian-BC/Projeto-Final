{
  "nbformat": 4,
  "nbformat_minor": 0,
  "metadata": {
    "colab": {
      "name": "Copy of Projeto DataScience.ipynb",
      "provenance": [],
      "collapsed_sections": [],
      "include_colab_link": true
    },
    "kernelspec": {
      "display_name": "Python 3",
      "name": "python3"
    },
    "language_info": {
      "name": "python"
    }
  },
  "cells": [
    {
      "cell_type": "markdown",
      "metadata": {
        "id": "view-in-github",
        "colab_type": "text"
      },
      "source": [
        "<a href=\"https://colab.research.google.com/github/Willian-BC/Projeto-Final/blob/main/Projeto_DataScience.ipynb\" target=\"_parent\"><img src=\"https://colab.research.google.com/assets/colab-badge.svg\" alt=\"Open In Colab\"/></a>"
      ]
    },
    {
      "cell_type": "markdown",
      "metadata": {
        "id": "ytJ8IjCoh9rY"
      },
      "source": [
        "#Configurações Iniciais e download"
      ]
    },
    {
      "cell_type": "code",
      "source": [
        "!pip install wget"
      ],
      "metadata": {
        "id": "DB_8hghCfSAv"
      },
      "execution_count": null,
      "outputs": []
    },
    {
      "cell_type": "code",
      "source": [
        "import pandas as pd\n",
        "import numpy as np\n",
        "import wget\n",
        "from zipfile import ZipFile\n",
        "from google.colab.data_table import DataTable\n",
        "import plotly.graph_objects as go\n",
        "import datetime as dt\n",
        "import matplotlib.pyplot as plt\n",
        "import seaborn as sns\n",
        "import warnings\n",
        "warnings.filterwarnings(\"ignore\")\n",
        "from subprocess import check_output"
      ],
      "metadata": {
        "id": "98X_Gy0rfVCD"
      },
      "execution_count": 2,
      "outputs": []
    },
    {
      "cell_type": "code",
      "metadata": {
        "id": "g4fa5LvSh_9P"
      },
      "source": [
        "url_base = 'http://dados.cvm.gov.br/dados/CIA_ABERTA/DOC/DFP/DADOS/'\n",
        "arquivos_zip = []\n",
        "for ano in range(2010, 2021, 10):\n",
        "  arquivos_zip.append(f'dfp_cia_aberta_{ano}.zip')\n",
        "\n",
        "for arq in arquivos_zip:\n",
        "  wget.download(url_base+arq)\n",
        "  ZipFile(arq, 'r').extractall('CVM')\n",
        "\n",
        "arquivos_zip"
      ],
      "execution_count": null,
      "outputs": []
    },
    {
      "cell_type": "markdown",
      "source": [
        "#Tratamento DataFrame"
      ],
      "metadata": {
        "id": "7mIKuoPKwFpR"
      }
    },
    {
      "cell_type": "code",
      "source": [
        "dre_10 = pd.read_csv(f'CVM/dfp_cia_aberta_DRE_ind_2010.csv',sep=';',decimal=',',encoding='ISO-8859-1')\n",
        "dre_10.head()"
      ],
      "metadata": {
        "id": "X_bxc74Pe5HY"
      },
      "execution_count": null,
      "outputs": []
    },
    {
      "cell_type": "code",
      "source": [
        "dre_10.info()"
      ],
      "metadata": {
        "id": "UCUxw7pWf_xd"
      },
      "execution_count": null,
      "outputs": []
    },
    {
      "cell_type": "code",
      "source": [
        "dre_10 = dre_10[dre_10.ORDEM_EXERC == 'ÚLTIMO']\n",
        "dre_10 = dre_10[dre_10.DS_CONTA.isin(['Lucro ou Prejuízo Líquido do Período','Despesas com Pessoal','Outras Despesas de Administrativas','Despesas Tributárias',\n",
        "                                      'Outras Receitas Operacionais','Outras Despesas Operacionais','Resultado antes dos Tributos sobre o Lucro',\n",
        "                                      'Corrente','Participações'])]\n",
        "dre_10 = dre_10[['CD_CVM','CNPJ_CIA','DENOM_CIA','MOEDA','ESCALA_MOEDA','DT_INI_EXERC','DT_FIM_EXERC','DS_CONTA','VL_CONTA']] \n",
        "dre_10.VL_CONTA = dre_10.VL_CONTA.astype(float)\n",
        "dre_10 = dre_10.pivot_table(index=['CD_CVM','CNPJ_CIA','DENOM_CIA','MOEDA','ESCALA_MOEDA','DT_INI_EXERC','DT_FIM_EXERC'], columns=['DS_CONTA'], values='VL_CONTA').reset_index().rename_axis(None, axis=1).fillna(0)\n",
        "\n",
        "dre_20 = pd.read_csv(f'CVM/dfp_cia_aberta_DRE_ind_2020.csv',sep=';',decimal=',',encoding='ISO-8859-1')\n",
        "dre_20 = dre_20[dre_20.ORDEM_EXERC == 'ÚLTIMO']\n",
        "\n",
        "dre_10['Resultado'] = dre_10.CNPJ_CIA.isin(dre_20.CNPJ_CIA).replace({True: 'Não Faliu', False: 'Faliu'})"
      ],
      "metadata": {
        "id": "YiZqeWoUglhn"
      },
      "execution_count": 37,
      "outputs": []
    },
    {
      "cell_type": "code",
      "source": [
        "color_list = ['red' if i=='Faliu' else 'green' for i in dre_10.loc[:,'Resultado']]\n",
        "pd.plotting.scatter_matrix(dre_10.loc[:, dre_10.columns != 'Resultado'],\n",
        "                                       c=color_list,\n",
        "                                       figsize= [15,15],\n",
        "                                       diagonal='hist',\n",
        "                                       alpha=0.5,\n",
        "                                       s = 200,\n",
        "                                       marker = '*',\n",
        "                                       edgecolor= \"black\")\n",
        "plt.show()"
      ],
      "metadata": {
        "id": "AfSs29frgfdo"
      },
      "execution_count": null,
      "outputs": []
    },
    {
      "cell_type": "code",
      "source": [
        "sns.countplot(x=\"Resultado\", data=dre_10)\n",
        "dre_10.loc[:,'Resultado'].value_counts()"
      ],
      "metadata": {
        "id": "PKy5HQm2g2m8"
      },
      "execution_count": null,
      "outputs": []
    },
    {
      "cell_type": "markdown",
      "source": [
        "# Reference\n",
        "https://www.kaggle.com/kanncaa1/machine-learning-tutorial-for-beginners"
      ],
      "metadata": {
        "id": "IjXLAWi8besB"
      }
    },
    {
      "cell_type": "markdown",
      "source": [
        "#KNN"
      ],
      "metadata": {
        "id": "OecGM13wn8n0"
      }
    },
    {
      "cell_type": "code",
      "source": [
        "# KNN\n",
        "from sklearn.neighbors import KNeighborsClassifier\n",
        "knn = KNeighborsClassifier(n_neighbors = 3)\n",
        "x,y = dre_10.loc[:,['Outras Despesas Operacionais','Outras Receitas Operacionais']], dre_10.loc[:,'Resultado']\n",
        "knn.fit(x,y)\n",
        "prediction = knn.predict(x)\n",
        "print('Prediction: {}'.format(prediction))"
      ],
      "metadata": {
        "id": "ZcdCP4_UkI7f"
      },
      "execution_count": null,
      "outputs": []
    },
    {
      "cell_type": "code",
      "source": [
        "# train test split\n",
        "from sklearn.model_selection import train_test_split\n",
        "x_train,x_test,y_train,y_test = train_test_split(x,y,test_size = 0.3,random_state = 1)\n",
        "knn = KNeighborsClassifier(n_neighbors = 3)\n",
        "x,y = dre_10.loc[:,dre_10.columns != 'Resultado'], dre_10.loc[:,'Resultado']\n",
        "knn.fit(x_train,y_train)\n",
        "prediction = knn.predict(x_test)\n",
        "#print('Prediction: {}'.format(prediction))\n",
        "print('With KNN (K=3) accuracy is: ',knn.score(x_test,y_test)) # accuracy"
      ],
      "metadata": {
        "id": "onzJI8sXW8Lu"
      },
      "execution_count": null,
      "outputs": []
    },
    {
      "cell_type": "code",
      "source": [
        "# Model complexity\n",
        "neig = np.arange(1, 25)\n",
        "train_accuracy = []\n",
        "test_accuracy = []\n",
        "# Loop over different values of k\n",
        "for i, k in enumerate(neig):\n",
        "    # k from 1 to 25(exclude)\n",
        "    knn = KNeighborsClassifier(n_neighbors=k)\n",
        "    knn.fit(x_train,y_train)\n",
        "    train_accuracy.append(knn.score(x_train, y_train))\n",
        "    test_accuracy.append(knn.score(x_test, y_test))\n",
        "\n",
        "# Plot\n",
        "plt.figure(figsize=[13,8])\n",
        "plt.plot(neig, test_accuracy, label = 'Testing Accuracy')\n",
        "plt.plot(neig, train_accuracy, label = 'Training Accuracy')\n",
        "plt.legend()\n",
        "plt.title('-value VS Accuracy')\n",
        "plt.xlabel('Number of Neighbors')\n",
        "plt.ylabel('Accuracy')\n",
        "plt.xticks(neig)\n",
        "plt.savefig('graph.png')\n",
        "plt.show()\n",
        "print(\"Best accuracy is {} with K = {}\".format(np.max(test_accuracy),1+test_accuracy.index(np.max(test_accuracy))))"
      ],
      "metadata": {
        "id": "Awk7Y1twXIxU"
      },
      "execution_count": null,
      "outputs": []
    },
    {
      "cell_type": "markdown",
      "source": [
        "#Regressão"
      ],
      "metadata": {
        "id": "hcGKd9yhoFW6"
      }
    },
    {
      "cell_type": "code",
      "source": [
        "df = dre_10[dre_10['Resultado'] =='Faliu']\n",
        "x = np.array(df.loc[:,'Outras Despesas Operacionais']).reshape(-1,1)\n",
        "y = np.array(df.loc[:,'Outras Receitas Operacionais']).reshape(-1,1)\n",
        "# Scatter\n",
        "plt.figure(figsize=[10,10])\n",
        "plt.scatter(x=x,y=y)\n",
        "plt.xlabel('Outras Despesas Operacionais')\n",
        "plt.ylabel('Outras Receitas Operacionais')\n",
        "plt.show()"
      ],
      "metadata": {
        "id": "L0ExVdILnECY"
      },
      "execution_count": null,
      "outputs": []
    },
    {
      "cell_type": "code",
      "source": [
        "from sklearn.linear_model import LinearRegression\n",
        "reg = LinearRegression()\n",
        "predict_space = np.linspace(min(x), max(x)).reshape(-1,1)\n",
        "reg.fit(x,y)\n",
        "predicted = reg.predict(predict_space)\n",
        "print('R^2 score: ',reg.score(x, y))\n",
        "# Plot regression line and scatter\n",
        "plt.plot(predict_space, predicted, color='black', linewidth=3)\n",
        "plt.scatter(x=x,y=y)\n",
        "plt.xlabel('Outras Despesas Operacionais')\n",
        "plt.ylabel('Outras Receitas Operacionais')\n",
        "plt.show()"
      ],
      "metadata": {
        "id": "LTs9ocIOrwRP"
      },
      "execution_count": null,
      "outputs": []
    },
    {
      "cell_type": "markdown",
      "source": [
        "#Validação"
      ],
      "metadata": {
        "id": "Fhe5vCA5XmMt"
      }
    },
    {
      "cell_type": "code",
      "source": [
        "# Cross Validation\n",
        "from sklearn.model_selection import cross_val_score\n",
        "reg = LinearRegression()\n",
        "k = 5\n",
        "cv_result = cross_val_score(reg,x,y,cv=k) # uses R^2 as score \n",
        "print('CV Scores: ',cv_result)\n",
        "print('CV scores average: ',np.sum(cv_result)/k)"
      ],
      "metadata": {
        "id": "hLSSOztTStuZ"
      },
      "execution_count": null,
      "outputs": []
    },
    {
      "cell_type": "code",
      "source": [
        "# Ridge\n",
        "from sklearn.model_selection import train_test_split\n",
        "from sklearn.linear_model import Ridge\n",
        "x_train,x_test,y_train,y_test = train_test_split(x,y,random_state = 2, test_size = 0.3)\n",
        "ridge = Ridge(alpha = 0.1, normalize = True)\n",
        "ridge.fit(x_train,y_train)\n",
        "ridge_predict = ridge.predict(x_test)\n",
        "print('Ridge score: ',ridge.score(x_test,y_test))"
      ],
      "metadata": {
        "id": "0ZodlasvVGNw"
      },
      "execution_count": null,
      "outputs": []
    },
    {
      "cell_type": "code",
      "source": [
        "# Lasso\n",
        "from sklearn.linear_model import Lasso\n",
        "x = np.array(df.loc[:,['Outras Despesas Operacionais','Outras Receitas Operacionais']])\n",
        "x_train,x_test,y_train,y_test = train_test_split(x,y,random_state = 3, test_size = 0.3)\n",
        "lasso = Lasso(alpha = 0.1, normalize = True)\n",
        "lasso.fit(x_train,y_train)\n",
        "ridge_predict = lasso.predict(x_test)\n",
        "print('Lasso score: ',lasso.score(x_test,y_test))\n",
        "print('Lasso coefficients: ',lasso.coef_)"
      ],
      "metadata": {
        "id": "IrNlhkviVf4O"
      },
      "execution_count": null,
      "outputs": []
    },
    {
      "cell_type": "code",
      "source": [
        "# Confusion matrix with random forest\n",
        "from sklearn.metrics import classification_report, confusion_matrix\n",
        "from sklearn.ensemble import RandomForestClassifier\n",
        "x,y = dre_10.loc[:,['Outras Despesas Operacionais','Outras Receitas Operacionais']], dre_10.loc[:,'Resultado']\n",
        "x_train,x_test,y_train,y_test = train_test_split(x,y,test_size = 0.3,random_state = 1)\n",
        "rf = RandomForestClassifier(random_state = 4)\n",
        "rf.fit(x_train,y_train)\n",
        "y_pred = rf.predict(x_test)\n",
        "cm = confusion_matrix(y_test,y_pred)\n",
        "print('Confusion matrix: \\n',cm)\n",
        "print('Classification report: \\n',classification_report(y_test,y_pred))"
      ],
      "metadata": {
        "id": "TDy_Cp-9WNR1"
      },
      "execution_count": null,
      "outputs": []
    },
    {
      "cell_type": "code",
      "source": [
        "sns.heatmap(cm,annot=True,fmt=\"d\") \n",
        "plt.show()"
      ],
      "metadata": {
        "id": "EjCu6Gn_XzhG"
      },
      "execution_count": null,
      "outputs": []
    },
    {
      "cell_type": "code",
      "source": [
        "# ROC Curve with logistic regression\n",
        "from sklearn.metrics import roc_curve\n",
        "from sklearn.linear_model import LogisticRegression\n",
        "from sklearn.metrics import confusion_matrix, classification_report\n",
        "# Faliu = 1 and Não Faliu = 0\n",
        "dre_10['Outras Receitas Operacionais'] = [1 if i == 'Faliu' else 0 for i in dre_10.loc[:,'Resultado']]\n",
        "x,y = dre_10.loc[:,['Despesas com Pessoal','Despesas Tributárias','Outras Receitas Operacionais','Outras Despesas Operacionais',\n",
        "                                      'Corrente','Participações']], dre_10.loc[:,'Outras Receitas Operacionais']\n",
        "x_train, x_test, y_train, y_test = train_test_split(x, y, test_size = 0.3, random_state=42)\n",
        "logreg = LogisticRegression()\n",
        "logreg.fit(x_train,y_train)\n",
        "y_pred_prob = logreg.predict_proba(x_test)[:,1]\n",
        "fpr, tpr, thresholds = roc_curve(y_test, y_pred_prob)\n",
        "# Plot ROC curve\n",
        "plt.plot([0, 1], [0, 1], 'k--')\n",
        "plt.plot(fpr, tpr)\n",
        "plt.xlabel('False Positive Rate')\n",
        "plt.ylabel('True Positive Rate')\n",
        "plt.title('ROC')\n",
        "plt.show()"
      ],
      "metadata": {
        "id": "oxNJw1gWX9BY"
      },
      "execution_count": null,
      "outputs": []
    },
    {
      "cell_type": "code",
      "source": [
        "# grid search cross validation with 1 hyperparameter\n",
        "from sklearn.model_selection import GridSearchCV\n",
        "grid = {'n_neighbors': np.arange(1,50)}\n",
        "knn = KNeighborsClassifier()\n",
        "knn_cv = GridSearchCV(knn, grid, cv=3) # GridSearchCV\n",
        "knn_cv.fit(x,y)# Fit\n",
        "\n",
        "# Print hyperparameter\n",
        "print(\"Tuned hyperparameter k: {}\".format(knn_cv.best_params_)) \n",
        "print(\"Best score: {}\".format(knn_cv.best_score_))"
      ],
      "metadata": {
        "id": "H7ayFI4mcPW_"
      },
      "execution_count": null,
      "outputs": []
    },
    {
      "cell_type": "markdown",
      "source": [
        "#Classificar empresas com machine learning"
      ],
      "metadata": {
        "id": "hNgpyIy1c5Wc"
      }
    },
    {
      "cell_type": "code",
      "source": [
        "from sklearn.model_selection import train_test_split\n",
        "y = dre_10.Resultado #variavel dependente\n",
        "x = dre_10.drop(['Resultado'], axis=1) #variaveis independentes\n",
        "\n",
        "x_train, x_test, y_train, y_test = train_test_split(x, y, train_size=0.8, test_size=0.2, randon_state = 0)"
      ],
      "metadata": {
        "id": "lGO-b55QTcE3"
      },
      "execution_count": null,
      "outputs": []
    },
    {
      "cell_type": "code",
      "source": [
        "#PASSAR PARAMETROS DO MACHINE LEARNING\n",
        "# Baggin : Bootstrap AGGregating\n",
        "\n",
        "from sklearn.ensemble import RandomForestRegressor\n",
        "from sklearn.metrics import mean_absolute_error\n",
        "\n",
        "def score_dataset (x_train, x_test, y_train, y_test):\n",
        "  model = RandomForestRegressor(n_estimators=100, randon_state=0)\n",
        "  model.fit(x_train, y_train)\n",
        "  preds = model.predict(x_test)\n",
        "  return mean_absolute_error(y_test, preds) #Quanto menor melhor"
      ],
      "metadata": {
        "id": "Cl61k1bCBc12"
      },
      "execution_count": null,
      "outputs": []
    },
    {
      "cell_type": "code",
      "source": [
        "#EMPRESAS EM RECUPERAÇÃO JUDICIAL PARA CLASSIFICAR NO MODELO\n",
        "\n",
        "dre_20 = pd.read_csv(f'CVM/dfp_cia_aberta_DRE_ind_2020.csv',sep=';',decimal=',',encoding='ISO-8859-1')\n",
        "dre_20 = dre_20[dre_20.ORDEM_EXERC == 'ÚLTIMO']\n",
        "dre_20 = dre_20[dre_20['DENOM_CIA'].dropna().str.contains(\"EM RECUPERAÇÃO JUDICIAL\")]\n",
        "dre_20 = dre_20[['DENOM_CIA']].drop_duplicates()\n",
        "dre_20"
      ],
      "metadata": {
        "id": "papMXm_EUb8l"
      },
      "execution_count": null,
      "outputs": []
    },
    {
      "cell_type": "markdown",
      "source": [
        "#FIM"
      ],
      "metadata": {
        "id": "22CJ_Wuucra2"
      }
    },
    {
      "cell_type": "code",
      "metadata": {
        "id": "ikk480AGNBtj"
      },
      "source": [
        "\n",
        "dre_10 = dre_10[dre_10.ORDEM_EXERC == 'ÚLTIMO'] \n",
        "#dre_10 = dre_10[dre_10.CD_CONTA.isin(['3.04.07'])] #PESQUISA PELO CÓD\n",
        "\n",
        "dre_10 = dre_10[dre_10.DS_CONTA.isin(['Lucro ou Prejuízo Líquido do Período','Despesas com Pessoal','Outras Despesas de Administrativas','Despesas Tributárias',\n",
        "                                      'Outras Receitas Operacionais','Outras Despesas Operacionais','Resultado antes dos Tributos sobre o Lucro',\n",
        "                                      'Corrente','Participações'])]\n",
        "dre_10 = dre_10[['CD_CVM','CNPJ_CIA','DENOM_CIA','MOEDA','ESCALA_MOEDA','DT_INI_EXERC','DT_FIM_EXERC','DS_CONTA','VL_CONTA']]\n",
        "dre_10.VL_CONTA = dre_10.VL_CONTA.astype(float)\n",
        "dre_10 = dre_10.pivot_table(index=['CD_CVM','CNPJ_CIA','DENOM_CIA','MOEDA','ESCALA_MOEDA','DT_INI_EXERC','DT_FIM_EXERC'], columns=['DS_CONTA'], values='VL_CONTA').reset_index().rename_axis(None, axis=1).fillna(0)\n",
        "\n",
        "dre_20 = pd.read_csv(f'CVM/dfp_cia_aberta_DRE_ind_2020.csv',sep=';',decimal=',',encoding='ISO-8859-1')\n",
        "dre_20 = dre_20[dre_20.ORDEM_EXERC == 'ÚLTIMO']\n",
        "\n",
        "dre_10['Resultado'] = dre_10.CNPJ_CIA.isin(dre_20.CNPJ_CIA).replace({True: 'Não Faliu', False: 'Faliu'})\n",
        "\n",
        "DataTable(dre_10)"
      ],
      "execution_count": null,
      "outputs": []
    },
    {
      "cell_type": "markdown",
      "source": [
        "1.   Encontrar URL para CNPJ que faliram (https://github.com/fabioserpa/CNPJ-full)\n",
        "2.   Split 2 dataframe faliu/não faliu\n",
        "3.   Assistir aula\n",
        "4.   Passar no modelo\n",
        "5.   Resultado"
      ],
      "metadata": {
        "id": "NaX-PH-rbSVu"
      }
    },
    {
      "cell_type": "markdown",
      "source": [
        "#Rascunho "
      ],
      "metadata": {
        "id": "NLk1zVEJTizc"
      }
    },
    {
      "cell_type": "code",
      "source": [
        "d = {}\n",
        "for ano in range(2010,2022):\n",
        "    df = pd.read_csv(f'CVM/dfp_cia_aberta_DRE_ind_{ano}.csv',sep=';',decimal=',', encoding='ISO-8859-1')\n",
        "    df = df[df.ORDEM_EXERC == 'ÚLTIMO']\n",
        "    df = df[df.DS_CONTA == 'Lucro/Prejuízo do Período']\n",
        "    #df = df[df.DS_CONTA == 'Lucro/Prejuízo Consolidado do Período'] #usado com 'DRE_con'\n",
        "    #df['VL_CONTA'] = pd.to_numeric(df['VL_CONTA'], downcast=\"float\")\n",
        "    #df['SOMA'] = df.groupby(['CD_CVM'])['VL_CONTA'].transform('sum')\n",
        "    df = df[['CD_CVM','VL_CONTA']].drop_duplicates().sort_index(1)\n",
        "    d[ano] = pd.merge(dre, df, on=['CD_CVM'], how='left').fillna(0)\n",
        "    dre[ano] = d[ano]['VL_CONTA']\n",
        "dre.head(n=10)\n"
      ],
      "metadata": {
        "id": "GUUgLSdfqSON"
      },
      "execution_count": null,
      "outputs": []
    },
    {
      "cell_type": "code",
      "source": [
        "df = pd.read_csv(f'CVM/dfp_cia_aberta_DRE_ind_2012.csv',sep=';',decimal=',', encoding='ISO-8859-1')\n",
        "df = df[df.ORDEM_EXERC == 'ÚLTIMO']\n",
        "df = df.loc[df['DS_CONTA'].str.contains(\"Lucro/Prejuízo do Período\", case=False)]\n",
        "#df = df[df.CD_CONTA == '3.13']\n",
        "df = df[df.CNPJ_CIA == '00.070.698/0001-11']\n",
        "#df = df[df.DS_CONTA == 'Lucro/Prejuízo Consolidado do Período']\n",
        "df.head(20)"
      ],
      "metadata": {
        "id": "Ichv5z_p9GUN"
      },
      "execution_count": null,
      "outputs": []
    },
    {
      "cell_type": "code",
      "source": [
        "pd.read_csv('CVM/dfp_cia_aberta_DRE_con_2010.csv',sep=';',decimal=',',encoding='ISO-8859-1')['ORDEM_EXERC']=='ÚLTIMO'#.head(n=10)#[['CD_CVM','VL_CONTA']].head(n=10)\n",
        "#df[(df['angle']"
      ],
      "metadata": {
        "id": "oSV9zbxA1beq"
      },
      "execution_count": null,
      "outputs": []
    },
    {
      "cell_type": "code",
      "metadata": {
        "id": "4qWVxArb33to"
      },
      "source": [
        "#bpa = pd.read_csv('/content/DADOS/dfp_cia_aberta_BPA_con_2010-2020.csv')\n",
        "#bpa.head(n=10)"
      ],
      "execution_count": null,
      "outputs": []
    },
    {
      "cell_type": "code",
      "source": [
        "dre_20 = pd.read_csv('/content/CVM/dfp_cia_aberta_DRE_ind_2020.csv', sep=';', error_bad_lines=False, encoding='latin-1')\n",
        "dre_21 = pd.read_csv('/content/CVM/dfp_cia_aberta_DRE_ind_2021.csv', sep=';', error_bad_lines=False, encoding='latin-1')\n",
        "\n",
        "dre_20.head(n=10)"
      ],
      "metadata": {
        "id": "mnfMJFy2tURt"
      },
      "execution_count": null,
      "outputs": []
    },
    {
      "cell_type": "code",
      "source": [
        "bpa_20 = pd.read_csv('/content/CVM/dfp_cia_aberta_BPA_con_2020.csv', sep=';', error_bad_lines=False, encoding='latin-1')\n",
        "bpa_20.head(n=10)"
      ],
      "metadata": {
        "id": "VPsEC1dQy9X2"
      },
      "execution_count": null,
      "outputs": []
    },
    {
      "cell_type": "code",
      "source": [
        "#dre_20['Status'] = dre_20.CNPJ_CIA.isin(dre_21.CNPJ_CIA)\n",
        "dre_20['Status'] = dre_20.equals(dre_21)\n",
        "#dre_20['Status'] = np.where(dre_20[\"CNPJ_CIA\"] == dre_21[\"CNPJ_CIA\"], True, False)\n",
        "dre_20.head(n=10)"
      ],
      "metadata": {
        "id": "9282KeEmsaix"
      },
      "execution_count": null,
      "outputs": []
    },
    {
      "cell_type": "markdown",
      "metadata": {
        "id": "w2r_wBniWPuR"
      },
      "source": [
        "#Filtrando"
      ]
    },
    {
      "cell_type": "code",
      "metadata": {
        "id": "eF-kxfBXUKjX"
      },
      "source": [
        "#PRECISAMOS TRANSPOR OS SEGUINTES RESULTADOS DAS LINHAS, PARA COLUNAS (Os nomes de cada coluna se encontram em dre['DS_CONTA'])\n",
        "dre[['DS_CONTA', 'CD_CONTA']]\n",
        "#os valores da dre['VL_CONTA'], referêntes do 3.01 ao 3.99.02.01, precisam ser transpostos para Colunas. "
      ],
      "execution_count": null,
      "outputs": []
    },
    {
      "cell_type": "code",
      "metadata": {
        "id": "o4GKo1IfUbhI"
      },
      "source": [
        "#Dentro de cada arquivo ele trás o comparativo entre D e D-1ano. Esse filtro trás apenas o ultimo exercício, ou seja: o atual do {ano})\n",
        "dre = dre[dre['ORDEM_EXERC'] == \"ÚLTIMO\"]"
      ],
      "execution_count": null,
      "outputs": []
    },
    {
      "cell_type": "code",
      "metadata": {
        "id": "dhzE_6mfUcov"
      },
      "source": [
        "# Aqui é criado uma tabela com o nome e o código CVM, e também remove arquivos duplicados\n",
        "empresas = dre[['DENOM_CIA','CD_CVM','CNPJ_CIA']].drop_duplicates().set_index('CD_CVM')\n",
        "DataTable(empresas)"
      ],
      "execution_count": null,
      "outputs": []
    },
    {
      "cell_type": "code",
      "metadata": {
        "id": "6RI34lTEXQ-G"
      },
      "source": [
        "#Aqui é feito um filtro considerando o código CVM do Itsa (7617), obtido da tabela anterior (para mudar de empresa, favor alterar o número)\n",
        "empresa = dre[dre['CD_CVM'] == 1023]\n",
        "DataTable(empresa)"
      ],
      "execution_count": null,
      "outputs": []
    },
    {
      "cell_type": "code",
      "metadata": {
        "id": "HppesuVZT329"
      },
      "source": [
        "dret = (dre.sort_values('DT_REFER').drop_duplicates('CNPJ_CIA',keep='last'))\n",
        "DataTable(dret[['DENOM_CIA','CD_CVM','CNPJ_CIA','DT_REFER']])"
      ],
      "execution_count": null,
      "outputs": []
    },
    {
      "cell_type": "code",
      "metadata": {
        "id": "VnqgndnbifNk"
      },
      "source": [
        "#Criar a coluna \"ano\"\n",
        "dret['ano'] = dret['DT_REFER'].str[0:4]\n",
        "dret['ano'] = dret['ano'].astype(int)\n",
        "DataTable(dret[['DENOM_CIA','CD_CVM','CNPJ_CIA','DT_REFER', 'ano']])"
      ],
      "execution_count": null,
      "outputs": []
    },
    {
      "cell_type": "code",
      "metadata": {
        "id": "bNy_RUhWG-Bd"
      },
      "source": [
        "dret"
      ],
      "execution_count": null,
      "outputs": []
    },
    {
      "cell_type": "markdown",
      "metadata": {
        "id": "IPdRtyoGGrLP"
      },
      "source": [
        "#Treinamento e Teste"
      ]
    },
    {
      "cell_type": "code",
      "metadata": {
        "id": "Jp4ZRJpZGwJQ"
      },
      "source": [
        ""
      ],
      "execution_count": null,
      "outputs": []
    },
    {
      "cell_type": "code",
      "metadata": {
        "id": "zp8OYXbnHFhs"
      },
      "source": [
        "#Cria 2 DataFrames a partir do filtro do ano 2020 --> dre_S -> Faliu // dre_N -> Não faliu\n",
        "dre_S = dret[dret['ano'] < 2020]\n",
        "dre_N = dret[dret['ano'] == 2020]\n",
        "\n",
        "print(len(dret))\n",
        "print(len(dre_S))\n",
        "print(len(dre_N))"
      ],
      "execution_count": null,
      "outputs": []
    },
    {
      "cell_type": "code",
      "metadata": {
        "id": "rWxI0eCJSaWL"
      },
      "source": [
        ""
      ],
      "execution_count": null,
      "outputs": []
    },
    {
      "cell_type": "code",
      "metadata": {
        "id": "QSDAelm9PjI3"
      },
      "source": [
        "dre_S"
      ],
      "execution_count": null,
      "outputs": []
    },
    {
      "cell_type": "code",
      "metadata": {
        "id": "GsPRdToFHJL9"
      },
      "source": [
        "#FALTA RESOLVER:\n",
        "#You are running into that error because your X (dre_S) and Y(dre_N) don't have the same length!!!\n",
        "\n",
        "caracteristicas = dre_S\n",
        "previsor = dre_N\n",
        "x_treinamento, x_teste, y_treinamento, y_teste = train_test_split(\n",
        "\tcaracteristicas,\n",
        "\tprevisor,\n",
        "\ttest_size=0.30,\n",
        "\trandom_state=100\n",
        ")\n",
        "\n",
        "print(len(dret))\n",
        "print(len(x_treinamento))\n",
        "print(len(x_teste))"
      ],
      "execution_count": null,
      "outputs": []
    },
    {
      "cell_type": "markdown",
      "metadata": {
        "id": "zpV78qxMX3hk"
      },
      "source": [
        "#Trazendo indicadores da empresa 'X'\n",
        "#OBS: precisamos criar uma forma de trazer TODAS as empresas, e não apenas 1"
      ]
    },
    {
      "cell_type": "code",
      "metadata": {
        "id": "XkRgbUS_X_U7"
      },
      "source": [
        "#Retorna uma tabela relacional dos códigos de descrição dos valores financeiros filtrada por data\n",
        "DataTable(empresa[['DT_REFER', 'DENOM_CIA','CD_CONTA', 'DS_CONTA', 'VL_CONTA']].drop_duplicates().set_index('DT_REFER'))\n",
        "\n",
        "\n",
        "#Com o código de descrição em mãos, podemos fazer os devidos filtros individualmente, para fins de cáculos financeiros"
      ],
      "execution_count": null,
      "outputs": []
    },
    {
      "cell_type": "code",
      "metadata": {
        "id": "hl1QA-eLY-no"
      },
      "source": [
        "#Filtrando pelo LPA - \"PN\" e por data\n",
        "LPA = empresa[empresa['CD_CONTA'] == '3.99.01.02']\n",
        "LPA.index = pd.to_datetime(conta['DT_REFER'])\n",
        "LPA.head(12)"
      ],
      "execution_count": null,
      "outputs": []
    },
    {
      "cell_type": "code",
      "metadata": {
        "id": "cNLiBq_WnT4r"
      },
      "source": [
        "Rct_Liq = empresa[empresa['CD_CONTA'] == '3.04']\n",
        "Lucro_Liq = empresa[empresa['CD_CONTA'] == '3.11']"
      ],
      "execution_count": null,
      "outputs": []
    },
    {
      "cell_type": "code",
      "metadata": {
        "id": "93u7CMRM7NmF"
      },
      "source": [
        "LPA['VL_CONTA']\n",
        "Rct_Liq['VL_CONTA']\n",
        "Lucro_Liq['VL_CONTA']"
      ],
      "execution_count": null,
      "outputs": []
    },
    {
      "cell_type": "code",
      "metadata": {
        "id": "F3U1k5egJzXZ"
      },
      "source": [
        "prices = yf.download('itsa4.SA', start='2011-01-01')[['Adj Close', 'Close']]\n",
        "prices"
      ],
      "execution_count": null,
      "outputs": []
    },
    {
      "cell_type": "code",
      "metadata": {
        "id": "MNyzGci1NZmg"
      },
      "source": [
        "#RESOLVER ESSE PROBLEMA: ELE ESTA SUBSCREVENDO AO INVES DE INCLUIR NOVAS COLUNAS POR CONTA DO ['VL_CONTA'] SER O MESMO NOME DE INDICADOR\n",
        "\n",
        "indicadores = prices.join(LPA['VL_CONTA'], how='outer')\n",
        "indicadores.rename({'VL_CONTA':'LPA'}, axis=1, inplace=True)\n",
        "#indicadores = prices.join(Rct_Liq['VL_CONTA'], how='outer')\n",
        "#indicadores.rename({'VL_CONTA':'Rct_Liq'}, axis=1, inplace=True) \n",
        "#indicadores = prices.join(Lucro_Liq['VL_CONTA'], how='outer')\n",
        "#indicadores.rename({'VL_CONTA':'Lucro_Liq'}, axis=1, inplace=True) \n",
        "indicadores\n"
      ],
      "execution_count": null,
      "outputs": []
    },
    {
      "cell_type": "code",
      "metadata": {
        "id": "veoEbhKWNZtI"
      },
      "source": [
        "\n",
        "indicadores.fillna(method='ffill',inplace=True)\n",
        "indicadores.dropna(inplace=True)"
      ],
      "execution_count": null,
      "outputs": []
    },
    {
      "cell_type": "code",
      "metadata": {
        "id": "U6N3E7YXOcOI"
      },
      "source": [
        "indicadores"
      ],
      "execution_count": null,
      "outputs": []
    },
    {
      "cell_type": "code",
      "metadata": {
        "id": "DquOv3hDMstD"
      },
      "source": [
        "indicadores['PL'] = indicadores ['Close'] /  indicadores ['LPA']\n",
        "indicadores['PL_Ajustado'] = indicadores ['Adj Close'] /  indicadores ['LPA']\n",
        "#indicadores ['Marg_Liq'] = indicadores['Lucro_Liq'] / indicadores['Rct_Liq']"
      ],
      "execution_count": null,
      "outputs": []
    },
    {
      "cell_type": "code",
      "metadata": {
        "id": "ALZ2kSyhK0kO"
      },
      "source": [
        "fig = go.Figure()\n",
        "#fig.add_trace(go.Scatter(x= indicadores.index, y= prices['Adj Close'], name='Preço'))\n",
        "#fig.add_trace(go.Scatter(x= indicadores.index, y= prices['Close'], name='Preço'))\n",
        "fig.add_trace(go.Scatter(x= indicadores.index, y= indicadores['PL'], name='Preço'))\n",
        "fig.add_trace(go.Scatter(x= indicadores.index, y= indicadores['PL_Ajustado'], name='Preço'))"
      ],
      "execution_count": null,
      "outputs": []
    }
  ]
}