{
  "nbformat": 4,
  "nbformat_minor": 0,
  "metadata": {
    "colab": {
      "name": "Copy of Projeto DataScience.ipynb",
      "provenance": [],
      "collapsed_sections": [],
      "include_colab_link": true
    },
    "kernelspec": {
      "display_name": "Python 3",
      "name": "python3"
    },
    "language_info": {
      "name": "python"
    }
  },
  "cells": [
    {
      "cell_type": "markdown",
      "metadata": {
        "id": "view-in-github",
        "colab_type": "text"
      },
      "source": [
        "<a href=\"https://colab.research.google.com/github/Willian-BC/Projeto-Final/blob/main/Projeto_DataScience.ipynb\" target=\"_parent\"><img src=\"https://colab.research.google.com/assets/colab-badge.svg\" alt=\"Open In Colab\"/></a>"
      ]
    },
    {
      "cell_type": "markdown",
      "metadata": {
        "id": "ytJ8IjCoh9rY"
      },
      "source": [
        "#Configurações Iniciais e download"
      ]
    },
    {
      "cell_type": "code",
      "source": [
        "!pip install wget"
      ],
      "metadata": {
        "id": "DB_8hghCfSAv"
      },
      "execution_count": null,
      "outputs": []
    },
    {
      "cell_type": "code",
      "source": [
        "import pandas as pd\n",
        "import numpy as np\n",
        "import wget\n",
        "from zipfile import ZipFile\n",
        "from google.colab.data_table import DataTable\n",
        "import plotly.graph_objects as go\n",
        "import datetime as dt\n",
        "import matplotlib.pyplot as plt\n",
        "import seaborn as sns\n",
        "import warnings\n",
        "warnings.filterwarnings(\"ignore\")\n",
        "from subprocess import check_output"
      ],
      "metadata": {
        "id": "98X_Gy0rfVCD"
      },
      "execution_count": 3,
      "outputs": []
    },
    {
      "cell_type": "code",
      "metadata": {
        "id": "g4fa5LvSh_9P",
        "colab": {
          "base_uri": "https://localhost:8080/"
        },
        "outputId": "b10d7c52-0b59-4a86-e262-1b6ad6aab8c1"
      },
      "source": [
        "url_base = 'http://dados.cvm.gov.br/dados/CIA_ABERTA/DOC/DFP/DADOS/'\n",
        "arquivos_zip = []\n",
        "for ano in range(2010, 2021, 10):\n",
        "  arquivos_zip.append(f'dfp_cia_aberta_{ano}.zip')\n",
        "\n",
        "for arq in arquivos_zip:\n",
        "  wget.download(url_base+arq)\n",
        "  ZipFile(arq, 'r').extractall('CVM')\n",
        "\n",
        "arquivos_zip"
      ],
      "execution_count": 4,
      "outputs": [
        {
          "output_type": "execute_result",
          "data": {
            "text/plain": [
              "['dfp_cia_aberta_2010.zip', 'dfp_cia_aberta_2020.zip']"
            ]
          },
          "metadata": {},
          "execution_count": 4
        }
      ]
    },
    {
      "cell_type": "markdown",
      "source": [
        "#Seleção dos dados"
      ],
      "metadata": {
        "id": "7mIKuoPKwFpR"
      }
    },
    {
      "cell_type": "code",
      "source": [
        "dre_10 = pd.read_csv(f'CVM/dfp_cia_aberta_DRE_ind_2010.csv',sep=';',decimal=',',encoding='ISO-8859-1')\n",
        "dre_10['DS_CONTA'] = dre_10['DS_CONTA'].str.lower()\n",
        "dre_10.VL_CONTA = dre_10.VL_CONTA.astype(float)\n",
        "dre_10 = dre_10.pivot_table(index=['CD_CVM','CNPJ_CIA','DENOM_CIA','MOEDA','ESCALA_MOEDA','DT_INI_EXERC','DT_FIM_EXERC'], columns=['DS_CONTA'], values='VL_CONTA').reset_index().rename_axis(None, axis=1)#.fillna(0)\n",
        "pd.set_option('display.expand_frame_repr', False)\n",
        "pd.set_option('max_rows', 99999)\n",
        "dre_10.count()"
      ],
      "metadata": {
        "id": "yaJUmD9qj-rw"
      },
      "execution_count": null,
      "outputs": []
    },
    {
      "cell_type": "code",
      "source": [
        "#ENCONTRAR DS_CONTA PARA USAR NO MODELO\n",
        "dre_10 = pd.read_csv(f'CVM/dfp_cia_aberta_DRE_ind_2010.csv',sep=';',decimal=',',encoding='ISO-8859-1')\n",
        "dre_10['DS_CONTA'] = dre_10['DS_CONTA'].str.lower()\n",
        "dre_10.VL_CONTA = dre_10.VL_CONTA.astype(float)\n",
        "df = dre_10.loc[dre_10['DS_CONTA'].str.contains(\"lucro\", case=False)]\n",
        "DataTable(df[['DS_CONTA','VL_CONTA']].drop_duplicates(subset=['DS_CONTA'], keep='first'))\n",
        "#SCRIPT APENAS PARA APOIO"
      ],
      "metadata": {
        "id": "pe6TAWpiCK7V"
      },
      "execution_count": null,
      "outputs": []
    },
    {
      "cell_type": "markdown",
      "source": [
        "#Tratamento DataFrame"
      ],
      "metadata": {
        "id": "e01gijFI7O2v"
      }
    },
    {
      "cell_type": "code",
      "source": [
        "dre_10 = pd.read_csv(f'CVM/dfp_cia_aberta_DRE_ind_2010.csv',sep=';',decimal=',',encoding='ISO-8859-1')\n",
        "dre_10 = dre_10[dre_10.ORDEM_EXERC == 'ÚLTIMO']\n",
        "dre_10 = dre_10[dre_10.DS_CONTA.isin(['Corrente', 'Custo dos Bens e/ou Serviços Vendidos', 'Despesas Financeiras', 'Despesas Gerais e Administrativas',\n",
        "                                      'Despesas com Vendas','Despesas/Receitas Operacionais', 'Diferido', 'Lucro/Prejuízo do Período','Outras Despesas Operacionais',\n",
        "                                      'Imposto de Renda e Contribuição Social sobre o Lucro', 'Outras Receitas Operacionais', 'Receitas Financeiras',\n",
        "                                      'Perdas pela Não Recuperabilidade de Ativos', 'Receita de Venda de Bens e/ou Serviços', 'Resultado Bruto', \n",
        "                                      'Resultado Antes do Resultado Financeiro e dos Tributos','Resultado Antes dos Tributos sobre o Lucro', 'Resultado Financeiro',\n",
        "                                      'Resultado Líquido das Operações Continuadas'])]\n",
        "                                      \n",
        "dre_10 = dre_10[['CD_CVM','CNPJ_CIA','DENOM_CIA','MOEDA','ESCALA_MOEDA','DT_INI_EXERC','DT_FIM_EXERC','DS_CONTA','VL_CONTA']] \n",
        "dre_10.VL_CONTA = dre_10.VL_CONTA.astype(float)\n",
        "dre_10 = dre_10.pivot_table(index=['CD_CVM','CNPJ_CIA','DENOM_CIA','MOEDA','ESCALA_MOEDA','DT_INI_EXERC','DT_FIM_EXERC'], columns=['DS_CONTA'], values='VL_CONTA').reset_index().rename_axis(None, axis=1).fillna(0)\n",
        "\n",
        "dre_20 = pd.read_csv(f'CVM/dfp_cia_aberta_DRE_ind_2020.csv',sep=';',decimal=',',encoding='ISO-8859-1')\n",
        "dre_20 = dre_20[dre_20.ORDEM_EXERC == 'ÚLTIMO']\n",
        "\n",
        "dre_10['Resultado'] = dre_10.CNPJ_CIA.isin(dre_20.CNPJ_CIA).replace({True: 'Não Faliu', False: 'Faliu'})\n",
        "dre_10.describe()"
      ],
      "metadata": {
        "id": "YiZqeWoUglhn"
      },
      "execution_count": null,
      "outputs": []
    },
    {
      "cell_type": "code",
      "source": [
        "DataTable.max_columns = 30\n",
        "DataTable(dre_10)"
      ],
      "metadata": {
        "id": "kciN233d_AXX"
      },
      "execution_count": null,
      "outputs": []
    },
    {
      "cell_type": "code",
      "source": [
        "color_list = ['red' if i=='Faliu' else 'green' for i in dre_10.loc[:,'Resultado']]\n",
        "pd.plotting.scatter_matrix(dre_10.loc[:, dre_10.columns != 'Resultado'],\n",
        "                                       c=color_list,\n",
        "                                       figsize= [25,25],\n",
        "                                       diagonal='hist',\n",
        "                                       alpha=0.5,\n",
        "                                       s = 200,\n",
        "                                       marker = '*',\n",
        "                                       edgecolor= \"black\")\n",
        "plt.show()"
      ],
      "metadata": {
        "id": "AfSs29frgfdo"
      },
      "execution_count": null,
      "outputs": []
    },
    {
      "cell_type": "code",
      "source": [
        "sns.countplot(x=\"Resultado\", data=dre_10)\n",
        "dre_10.loc[:,'Resultado'].value_counts()"
      ],
      "metadata": {
        "id": "PKy5HQm2g2m8"
      },
      "execution_count": null,
      "outputs": []
    },
    {
      "cell_type": "markdown",
      "source": [
        "# Reference\n",
        "https://www.kaggle.com/kanncaa1/machine-learning-tutorial-for-beginners"
      ],
      "metadata": {
        "id": "IjXLAWi8besB"
      }
    },
    {
      "cell_type": "markdown",
      "source": [
        "#KNN"
      ],
      "metadata": {
        "id": "OecGM13wn8n0"
      }
    },
    {
      "cell_type": "code",
      "source": [
        "# KNN\n",
        "from sklearn.neighbors import KNeighborsClassifier\n",
        "knn = KNeighborsClassifier(n_neighbors = 3)\n",
        "x,y = dre_10.loc[:,['Corrente','Lucro/Prejuízo do Período']], dre_10.loc[:,'Resultado']\n",
        "knn.fit(x,y)\n",
        "prediction = knn.predict(x)\n",
        "print('Prediction: {}'.format(prediction))"
      ],
      "metadata": {
        "id": "ZcdCP4_UkI7f"
      },
      "execution_count": null,
      "outputs": []
    },
    {
      "cell_type": "code",
      "source": [
        "# train test split\n",
        "from sklearn.model_selection import train_test_split\n",
        "x_train,x_test,y_train,y_test = train_test_split(x,y,test_size = 0.3,random_state = 1)\n",
        "knn = KNeighborsClassifier(n_neighbors = 3)\n",
        "x,y = dre_10.loc[:,dre_10.columns != 'Resultado'], dre_10.loc[:,'Resultado']\n",
        "knn.fit(x_train,y_train)\n",
        "prediction = knn.predict(x_test)\n",
        "#print('Prediction: {}'.format(prediction))\n",
        "print('With KNN (K=3) accuracy is: ',knn.score(x_test,y_test)) # accuracy"
      ],
      "metadata": {
        "id": "onzJI8sXW8Lu"
      },
      "execution_count": null,
      "outputs": []
    },
    {
      "cell_type": "code",
      "source": [
        "# Model complexity\n",
        "neig = np.arange(1, 25)\n",
        "train_accuracy = []\n",
        "test_accuracy = []\n",
        "# Loop over different values of k\n",
        "for i, k in enumerate(neig):\n",
        "    # k from 1 to 25(exclude)\n",
        "    knn = KNeighborsClassifier(n_neighbors=k)\n",
        "    knn.fit(x_train,y_train)\n",
        "    train_accuracy.append(knn.score(x_train, y_train))\n",
        "    test_accuracy.append(knn.score(x_test, y_test))\n",
        "\n",
        "# Plot\n",
        "plt.figure(figsize=[13,8])\n",
        "plt.plot(neig, test_accuracy, label = 'Testing Accuracy')\n",
        "plt.plot(neig, train_accuracy, label = 'Training Accuracy')\n",
        "plt.legend()\n",
        "plt.title('-value VS Accuracy')\n",
        "plt.xlabel('Number of Neighbors')\n",
        "plt.ylabel('Accuracy')\n",
        "plt.xticks(neig)\n",
        "plt.savefig('graph.png')\n",
        "plt.show()\n",
        "print(\"Best accuracy is {} with K = {}\".format(np.max(test_accuracy),1+test_accuracy.index(np.max(test_accuracy))))"
      ],
      "metadata": {
        "id": "Awk7Y1twXIxU"
      },
      "execution_count": null,
      "outputs": []
    },
    {
      "cell_type": "markdown",
      "source": [
        "#Regressão Linear"
      ],
      "metadata": {
        "id": "hcGKd9yhoFW6"
      }
    },
    {
      "cell_type": "code",
      "source": [
        "df = dre_10[dre_10['Resultado'] =='Faliu']\n",
        "x = np.array(df.loc[:,'Corrente']).reshape(-1,1)\n",
        "y = np.array(df.loc[:,'Lucro/Prejuízo do Período']).reshape(-1,1)\n",
        "# Scatter\n",
        "plt.figure(figsize=[10,10])\n",
        "plt.scatter(x=x,y=y)\n",
        "plt.xlabel('Corrente')\n",
        "plt.ylabel('Lucro/Prejuízo do Período')\n",
        "plt.show()"
      ],
      "metadata": {
        "id": "L0ExVdILnECY"
      },
      "execution_count": null,
      "outputs": []
    },
    {
      "cell_type": "code",
      "source": [
        "from sklearn.linear_model import LinearRegression\n",
        "reg = LinearRegression()\n",
        "predict_space = np.linspace(min(x), max(x)).reshape(-1,1)\n",
        "reg.fit(x,y)\n",
        "predicted = reg.predict(predict_space)\n",
        "print('R^2 score: ',reg.score(x, y))\n",
        "# Plot regression line and scatter\n",
        "plt.plot(predict_space, predicted, color='black', linewidth=3)\n",
        "plt.scatter(x=x,y=y)\n",
        "plt.xlabel('Resultado Líquido das Operações Continuadas')\n",
        "plt.ylabel('Lucro/Prejuízo do Período')\n",
        "plt.show()"
      ],
      "metadata": {
        "id": "LTs9ocIOrwRP"
      },
      "execution_count": null,
      "outputs": []
    },
    {
      "cell_type": "markdown",
      "source": [
        "#Validação"
      ],
      "metadata": {
        "id": "Fhe5vCA5XmMt"
      }
    },
    {
      "cell_type": "code",
      "source": [
        "# Cross Validation\n",
        "from sklearn.model_selection import cross_val_score\n",
        "reg = LinearRegression()\n",
        "k = 5\n",
        "cv_result = cross_val_score(reg,x,y,cv=k) # uses R^2 as score \n",
        "print('CV Scores: ',cv_result)\n",
        "print('CV scores average: ',np.sum(cv_result)/k)"
      ],
      "metadata": {
        "id": "hLSSOztTStuZ"
      },
      "execution_count": null,
      "outputs": []
    },
    {
      "cell_type": "code",
      "source": [
        "# Ridge\n",
        "from sklearn.model_selection import train_test_split\n",
        "from sklearn.linear_model import Ridge\n",
        "x_train,x_test,y_train,y_test = train_test_split(x,y,random_state = 2, test_size = 0.3)\n",
        "ridge = Ridge(alpha = 0.1, normalize = True)\n",
        "ridge.fit(x_train,y_train)\n",
        "ridge_predict = ridge.predict(x_test)\n",
        "print('Ridge score: ',ridge.score(x_test,y_test))"
      ],
      "metadata": {
        "id": "0ZodlasvVGNw"
      },
      "execution_count": null,
      "outputs": []
    },
    {
      "cell_type": "code",
      "source": [
        "# Lasso\n",
        "from sklearn.linear_model import Lasso\n",
        "x = np.array(df.loc[:,['Corrente','Lucro/Prejuízo do Período']])\n",
        "x_train,x_test,y_train,y_test = train_test_split(x,y,random_state = 3, test_size = 0.3)\n",
        "lasso = Lasso(alpha = 0.1, normalize = True)\n",
        "lasso.fit(x_train,y_train)\n",
        "ridge_predict = lasso.predict(x_test)\n",
        "print('Lasso score: ',lasso.score(x_test,y_test))\n",
        "print('Lasso coefficients: ',lasso.coef_)"
      ],
      "metadata": {
        "id": "IrNlhkviVf4O"
      },
      "execution_count": null,
      "outputs": []
    },
    {
      "cell_type": "code",
      "source": [
        "# Confusion matrix with random forest\n",
        "from sklearn.metrics import classification_report, confusion_matrix\n",
        "from sklearn.ensemble import RandomForestClassifier\n",
        "x,y = dre_10.loc[:,['Corrente','Lucro/Prejuízo do Período']], dre_10.loc[:,'Resultado']\n",
        "x_train,x_test,y_train,y_test = train_test_split(x,y,test_size = 0.3,random_state = 1)\n",
        "rf = RandomForestClassifier(random_state = 4)\n",
        "rf.fit(x_train,y_train)\n",
        "y_pred = rf.predict(x_test)\n",
        "cm = confusion_matrix(y_test,y_pred)\n",
        "print('Confusion matrix: \\n',cm)\n",
        "print('Classification report: \\n',classification_report(y_test,y_pred))"
      ],
      "metadata": {
        "id": "TDy_Cp-9WNR1"
      },
      "execution_count": null,
      "outputs": []
    },
    {
      "cell_type": "code",
      "source": [
        "sns.heatmap(cm,annot=True,fmt=\"d\") \n",
        "plt.show()"
      ],
      "metadata": {
        "id": "EjCu6Gn_XzhG"
      },
      "execution_count": null,
      "outputs": []
    },
    {
      "cell_type": "code",
      "source": [
        "# ROC Curve with logistic regression\n",
        "from sklearn.metrics import roc_curve\n",
        "from sklearn.linear_model import LogisticRegression\n",
        "from sklearn.metrics import confusion_matrix, classification_report\n",
        "# Faliu = 1 and Não Faliu = 0\n",
        "dre_10['Lucro/Prejuízo do Período'] = [1 if i == 'Faliu' else 0 for i in dre_10.loc[:,'Resultado']]\n",
        "x,y = dre_10.loc[:,['Corrente', 'Custo dos Bens e/ou Serviços Vendidos', 'Despesas Financeiras', 'Despesas Gerais e Administrativas',\n",
        "                                      'Despesas com Vendas','Despesas/Receitas Operacionais', 'Diferido', 'Lucro/Prejuízo do Período','Outras Despesas Operacionais',\n",
        "                                      'Imposto de Renda e Contribuição Social sobre o Lucro', 'Outras Receitas Operacionais', 'Receitas Financeiras',\n",
        "                                      'Perdas pela Não Recuperabilidade de Ativos', 'Receita de Venda de Bens e/ou Serviços', 'Resultado Bruto', \n",
        "                                      'Resultado Antes do Resultado Financeiro e dos Tributos','Resultado Antes dos Tributos sobre o Lucro', 'Resultado Financeiro',\n",
        "                                      'Resultado Líquido das Operações Continuadas']], dre_10.loc[:,'Lucro/Prejuízo do Período']\n",
        "x_train, x_test, y_train, y_test = train_test_split(x, y, test_size = 0.3, random_state=42)\n",
        "logreg = LogisticRegression()\n",
        "logreg.fit(x_train,y_train)\n",
        "y_pred_prob = logreg.predict_proba(x_test)[:,1]\n",
        "fpr, tpr, thresholds = roc_curve(y_test, y_pred_prob)\n",
        "# Plot ROC curve\n",
        "plt.plot([0, 1], [0, 1], 'k--')\n",
        "plt.plot(fpr, tpr)\n",
        "plt.xlabel('False Positive Rate')\n",
        "plt.ylabel('True Positive Rate')\n",
        "plt.title('ROC')\n",
        "plt.show()"
      ],
      "metadata": {
        "id": "oxNJw1gWX9BY"
      },
      "execution_count": null,
      "outputs": []
    },
    {
      "cell_type": "code",
      "source": [
        "# grid search cross validation with 1 hyperparameter\n",
        "from sklearn.model_selection import GridSearchCV\n",
        "grid = {'n_neighbors': np.arange(1,50)}\n",
        "knn = KNeighborsClassifier()\n",
        "knn_cv = GridSearchCV(knn, grid, cv=3) # GridSearchCV\n",
        "knn_cv.fit(x,y)# Fit\n",
        "\n",
        "# Print hyperparameter\n",
        "print(\"Tuned hyperparameter k: {}\".format(knn_cv.best_params_)) \n",
        "print(\"Best score: {}\".format(knn_cv.best_score_))"
      ],
      "metadata": {
        "id": "H7ayFI4mcPW_"
      },
      "execution_count": null,
      "outputs": []
    },
    {
      "cell_type": "markdown",
      "source": [
        "#Treinar empresas com machine learning"
      ],
      "metadata": {
        "id": "hNgpyIy1c5Wc"
      }
    },
    {
      "cell_type": "code",
      "source": [
        "from sklearn.model_selection import train_test_split\n",
        "from sklearn.metrics import accuracy_score, precision_score, recall_score, confusion_matrix, precision_recall_curve\n",
        "\n",
        "\n",
        "y = dre_10.Resultado #variavel dependente\n",
        "x = dre_10.drop(['Resultado','CD_CVM','CNPJ_CIA','DENOM_CIA','MOEDA','ESCALA_MOEDA','DT_INI_EXERC','DT_FIM_EXERC'], axis=1) #variaveis independentes\n",
        "\n",
        "x_train, x_test, y_train, y_test = train_test_split(x, y, train_size=0.8, test_size=0.2, random_state = 0)"
      ],
      "metadata": {
        "id": "lGO-b55QTcE3"
      },
      "execution_count": 8,
      "outputs": []
    },
    {
      "cell_type": "code",
      "source": [
        "def CMatrix(CM, labels=['Faliu', 'Não faliu']):\n",
        "  df = pd.DataFrame(data=CM, index=labels, columns=labels)\n",
        "  df.index.name='TRUE'\n",
        "  df.columns.name='PREDICTION'\n",
        "  df.loc['Total'] = df.sum()\n",
        "  df['Total'] = df.sum(axis=1)\n",
        "  return df"
      ],
      "metadata": {
        "id": "pGpyab6d7s2f"
      },
      "execution_count": 9,
      "outputs": []
    },
    {
      "cell_type": "code",
      "source": [
        "metrics = pd.DataFrame(index=['Accuracy','Precision','Recall'],\n",
        "                       columns=['LogisticReg','ClassTree','NaiveBayes'])"
      ],
      "metadata": {
        "id": "cuA_s4ZY8zWH"
      },
      "execution_count": 10,
      "outputs": []
    },
    {
      "cell_type": "code",
      "source": [
        "from sklearn.linear_model import LogisticRegression\n",
        "logistic_regression = LogisticRegression(n_jobs=-1, random_state=0)\n",
        "logistic_regression.fit(x_train, y_train)\n",
        "y_pred_test = logistic_regression.predict(x_test)\n",
        "metrics.loc['Accuracy','LogisticReg'] = accuracy_score(y_pred=y_pred_test, y_true=y_test)\n",
        "metrics.loc['Precision','LogisticReg'] = precision_score(y_pred=y_pred_test, y_true=y_test, pos_label='Faliu')\n",
        "metrics.loc['Recall','LogisticReg'] = recall_score(y_pred=y_pred_test, y_true=y_test, pos_label='Faliu')\n",
        "\n",
        "CM = confusion_matrix(y_pred=y_pred_test, y_true=y_test)\n",
        "CMatrix(CM)"
      ],
      "metadata": {
        "id": "rjqMJDSD7m78"
      },
      "execution_count": null,
      "outputs": []
    },
    {
      "cell_type": "code",
      "source": [
        "from sklearn.tree import DecisionTreeClassifier\n",
        "class_tree = DecisionTreeClassifier(min_samples_split=30, min_samples_leaf=10, random_state=0)\n",
        "class_tree.fit(x_train, y_train)\n",
        "y_pred_test = class_tree.predict(x_test)\n",
        "metrics.loc['Accuracy','ClassTree'] = accuracy_score(y_pred=y_pred_test, y_true=y_test)\n",
        "metrics.loc['Precision','ClassTree'] = precision_score(y_pred=y_pred_test, y_true=y_test, pos_label='Faliu')\n",
        "metrics.loc['Recall','ClassTree'] = recall_score(y_pred=y_pred_test, y_true=y_test, pos_label='Faliu')\n",
        "\n",
        "CM = confusion_matrix(y_pred=y_pred_test, y_true=y_test)\n",
        "CMatrix(CM)"
      ],
      "metadata": {
        "id": "-2XbuqHm9bq_"
      },
      "execution_count": null,
      "outputs": []
    },
    {
      "cell_type": "code",
      "source": [
        "from sklearn.naive_bayes import GaussianNB\n",
        "NBC = GaussianNB()\n",
        "NBC.fit(x_train, y_train)\n",
        "y_pred_test = NBC.predict(x_test)\n",
        "metrics.loc['Accuracy','NaiveBayes'] = accuracy_score(y_pred=y_pred_test, y_true=y_test)\n",
        "metrics.loc['Precision','NaiveBayes'] = precision_score(y_pred=y_pred_test, y_true=y_test, pos_label='Faliu')\n",
        "metrics.loc['Recall','NaiveBayes'] = recall_score(y_pred=y_pred_test, y_true=y_test, pos_label='Faliu')\n",
        "\n",
        "CM = confusion_matrix(y_pred=y_pred_test, y_true=y_test)\n",
        "CMatrix(CM)"
      ],
      "metadata": {
        "id": "KW_vRLX3ALff"
      },
      "execution_count": null,
      "outputs": []
    },
    {
      "cell_type": "code",
      "source": [
        "100*metrics"
      ],
      "metadata": {
        "id": "_QTt977YAxKA"
      },
      "execution_count": null,
      "outputs": []
    },
    {
      "cell_type": "code",
      "source": [
        "fig, ax = plt.subplots(figsize=(8,5))\n",
        "metrics.plot(kind='barh', ax=ax)\n",
        "ax.grid();"
      ],
      "metadata": {
        "id": "ZzZM1cxuCYAZ"
      },
      "execution_count": null,
      "outputs": []
    },
    {
      "cell_type": "markdown",
      "source": [
        "#Comparativo entre modelos"
      ],
      "metadata": {
        "id": "VK_ATeZLDpyT"
      }
    },
    {
      "cell_type": "code",
      "source": [
        "y_test = y_test.map({'Faliu': 1, 'Não Faliu': 0}).astype(int)\n",
        "precision_nb, recall_nb, thresholds_nb = precision_recall_curve(y_true=y_test, probas_pred=class_tree.predict_proba(x_test)[:,1])\n",
        "precision_lr, recall_lr, thresholds_lr = precision_recall_curve(y_true=y_test, probas_pred=logistic_regression.predict_proba(x_test)[:,1])"
      ],
      "metadata": {
        "id": "fyn8ccF5EMe3"
      },
      "execution_count": null,
      "outputs": []
    },
    {
      "cell_type": "code",
      "source": [
        "fig, ax = plt.subplots(figsize=(8,5))\n",
        "ax.plot(precision_nb, recall_nb, label='ClassTree')\n",
        "ax.plot(precision_lr, recall_lr, label='LogisticReg')\n",
        "ax.set_xlabel('Precision')\n",
        "ax.set_ylabel('Recall')\n",
        "ax.set_title('Precision-Recall Curve')\n",
        "ax.hlines(y=0.5,xmin=0,xmax=1,color='red')\n",
        "ax.legend()\n",
        "ax.grid()"
      ],
      "metadata": {
        "id": "n0ezERxhFYao"
      },
      "execution_count": null,
      "outputs": []
    },
    {
      "cell_type": "code",
      "source": [
        "fig, ax = plt.subplots(figsize=(8,5))\n",
        "ax.plot(thresholds_lr, precision_lr[1:], label='Precision')\n",
        "ax.plot(thresholds_lr, recall_lr[1:], label='Recall')\n",
        "ax.set_xlabel('Classification Threshold')\n",
        "ax.set_ylabel('Precision, Recall')\n",
        "ax.set_title('Logistic Regression Classifier: Precision-Recall')\n",
        "#ax.hlines(y=0.6,xmin=0,xmax=1,color='red')\n",
        "ax.vlines(x=0.4,ymin=0,ymax=1,color='red')\n",
        "ax.legend()\n",
        "ax.grid()"
      ],
      "metadata": {
        "id": "31tOOlFzI88_"
      },
      "execution_count": null,
      "outputs": []
    },
    {
      "cell_type": "code",
      "source": [
        "y_pred_proba = logistic_regression.predict_proba(x_test)[:,1]\n",
        "y_pred_test = (y_pred_proba >= 0.4).astype('int')\n",
        "CM = confusion_matrix(y_pred=y_pred_test, y_true=y_test)\n",
        "print(\"Recall: \", 100*recall_score(y_pred=y_pred_test, y_true=y_test))\n",
        "print(\"Precision: \", 100*precision_score(y_pred=y_pred_test, y_true=y_test))\n",
        "CMatrix(CM)"
      ],
      "metadata": {
        "id": "JPayhMOxKhSH"
      },
      "execution_count": null,
      "outputs": []
    },
    {
      "cell_type": "markdown",
      "source": [
        "#individual predictions\n",
        "https://www.youtube.com/watch?v=zUqa6KcwRhs"
      ],
      "metadata": {
        "id": "jknxjZVv1vtm"
      }
    },
    {
      "cell_type": "code",
      "source": [
        "def ind_prediction(nova_empresa):\n",
        "  empresa = nova_empresa.values.reshape(1,-1)\n",
        "  #empresa = robust_scaler.transform(empresa)\n",
        "  prob = logistic_regression.predict_proba(empresa)[0][1]\n",
        "  return prob"
      ],
      "metadata": {
        "id": "OrzwsDbg000O"
      },
      "execution_count": 56,
      "outputs": []
    },
    {
      "cell_type": "code",
      "source": [
        "dre_20 = pd.read_csv(f'CVM/dfp_cia_aberta_DRE_ind_2020.csv',sep=';',decimal=',',encoding='ISO-8859-1')\n",
        "dre_20 = dre_20[dre_20.ORDEM_EXERC == 'ÚLTIMO']\n",
        "dre_20 = dre_20[dre_20.DS_CONTA.isin(['Corrente', 'Custo dos Bens e/ou Serviços Vendidos', 'Despesas Financeiras', 'Despesas Gerais e Administrativas',\n",
        "                                      'Despesas com Vendas','Despesas/Receitas Operacionais', 'Diferido', 'Lucro/Prejuízo do Período','Outras Despesas Operacionais',\n",
        "                                      'Imposto de Renda e Contribuição Social sobre o Lucro', 'Outras Receitas Operacionais', 'Receitas Financeiras',\n",
        "                                      'Perdas pela Não Recuperabilidade de Ativos', 'Receita de Venda de Bens e/ou Serviços', 'Resultado Bruto', \n",
        "                                      'Resultado Antes do Resultado Financeiro e dos Tributos','Resultado Antes dos Tributos sobre o Lucro', 'Resultado Financeiro',\n",
        "                                      'Resultado Líquido das Operações Continuadas'])]\n",
        "                                      \n",
        "dre_20 = dre_20[['CD_CVM','CNPJ_CIA','DENOM_CIA','MOEDA','ESCALA_MOEDA','DT_INI_EXERC','DT_FIM_EXERC','DS_CONTA','VL_CONTA']]\n",
        "dre_20 = dre_20[dre_20['DENOM_CIA'].dropna().str.contains(\"EM RECUPERAÇÃO JUDICIAL\")] \n",
        "dre_20.VL_CONTA = dre_20.VL_CONTA.astype(float)\n",
        "dre_20 = dre_20.pivot_table(index=['CD_CVM','CNPJ_CIA','DENOM_CIA','MOEDA','ESCALA_MOEDA','DT_INI_EXERC','DT_FIM_EXERC'], columns=['DS_CONTA'], values='VL_CONTA').reset_index().rename_axis(None, axis=1).fillna(0)\n",
        "DataTable(dre_20)"
      ],
      "metadata": {
        "colab": {
          "base_uri": "https://localhost:8080/",
          "height": 1473
        },
        "id": "SEypprXIm7yf",
        "outputId": "d1eeaad0-c65f-4c86-8391-e947a6e2612a"
      },
      "execution_count": 82,
      "outputs": [
        {
          "output_type": "stream",
          "name": "stdout",
          "text": [
            "Warning: Total number of columns (26) exceeds max_columns (20) limiting to first (20) columns.\n"
          ]
        },
        {
          "output_type": "execute_result",
          "data": {
            "application/vnd.google.colaboratory.module+javascript": "\n      import \"https://ssl.gstatic.com/colaboratory/data_table/81f25a011006ed3d/data_table.js\";\n\n      window.createDataTable({\n        data: [[{\n            'v': 0,\n            'f': \"0\",\n        },\n{\n            'v': 1520,\n            'f': \"1520\",\n        },\n\"60.851.615/0001-53\",\n\"BARDELLA S.A. INDUSTRIAS MECANICAS EM RECUPERA\\u00c7\\u00c3O JUDICIAL\",\n\"REAL\",\n\"MIL\",\n\"2020-01-01\",\n\"2020-12-31\",\n{\n            'v': 0.0,\n            'f': \"0.0\",\n        },\n{\n            'v': -24896.0,\n            'f': \"-24896.0\",\n        },\n{\n            'v': -18497.0,\n            'f': \"-18497.0\",\n        },\n{\n            'v': -13638.0,\n            'f': \"-13638.0\",\n        },\n{\n            'v': -2517.0,\n            'f': \"-2517.0\",\n        },\n{\n            'v': -51475.0,\n            'f': \"-51475.0\",\n        },\n{\n            'v': 10821.0,\n            'f': \"10821.0\",\n        },\n{\n            'v': 10821.0,\n            'f': \"10821.0\",\n        },\n{\n            'v': -65455.0,\n            'f': \"-65455.0\",\n        },\n{\n            'v': -39025.0,\n            'f': \"-39025.0\",\n        },\n{\n            'v': 18478.0,\n            'f': \"18478.0\",\n        },\n{\n            'v': 0.0,\n            'f': \"0.0\",\n        },\n{\n            'v': 13259.0,\n            'f': \"13259.0\",\n        }],\n [{\n            'v': 1,\n            'f': \"1\",\n        },\n{\n            'v': 4685,\n            'f': \"4685\",\n        },\n\"09.116.278/0001-01\",\n\"CONPEL CIA NORDESTINA PAPEL - EM RECUPERA\\u00c7\\u00c3O JUDICIAL\",\n\"REAL\",\n\"UNIDADE\",\n\"2020-01-01\",\n\"2020-12-31\",\n{\n            'v': 0.0,\n            'f': \"0.0\",\n        },\n{\n            'v': -42666.0,\n            'f': \"-42666.0\",\n        },\n{\n            'v': -11813.0,\n            'f': \"-11813.0\",\n        },\n{\n            'v': -5340.0,\n            'f': \"-5340.0\",\n        },\n{\n            'v': -1613.0,\n            'f': \"-1613.0\",\n        },\n{\n            'v': -1907.0,\n            'f': \"-1907.0\",\n        },\n{\n            'v': 644.0,\n            'f': \"644.0\",\n        },\n{\n            'v': 644.0,\n            'f': \"644.0\",\n        },\n{\n            'v': -12031.0,\n            'f': \"-12031.0\",\n        },\n{\n            'v': 0.0,\n            'f': \"0.0\",\n        },\n{\n            'v': 5046.0,\n            'f': \"5046.0\",\n        },\n{\n            'v': 0.0,\n            'f': \"0.0\",\n        },\n{\n            'v': 43709.0,\n            'f': \"43709.0\",\n        }],\n [{\n            'v': 2,\n            'f': \"2\",\n        },\n{\n            'v': 5762,\n            'f': \"5762\",\n        },\n\"61.092.037/0001-81\",\n\"ETERNIT S.A. - EM RECUPERA\\u00c7\\u00c3O JUDICIAL\",\n\"REAL\",\n\"MIL\",\n\"2020-01-01\",\n\"2020-12-31\",\n{\n            'v': -8939.0,\n            'f': \"-8939.0\",\n        },\n{\n            'v': -385450.0,\n            'f': \"-385450.0\",\n        },\n{\n            'v': -10846.0,\n            'f': \"-10846.0\",\n        },\n{\n            'v': -45675.0,\n            'f': \"-45675.0\",\n        },\n{\n            'v': -37443.0,\n            'f': \"-37443.0\",\n        },\n{\n            'v': 38059.0,\n            'f': \"38059.0\",\n        },\n{\n            'v': -12117.0,\n            'f': \"-12117.0\",\n        },\n{\n            'v': -21056.0,\n            'f': \"-21056.0\",\n        },\n{\n            'v': 158751.0,\n            'f': \"158751.0\",\n        },\n{\n            'v': 49193.0,\n            'f': \"49193.0\",\n        },\n{\n            'v': 52061.0,\n            'f': \"52061.0\",\n        },\n{\n            'v': 0.0,\n            'f': \"0.0\",\n        },\n{\n            'v': 513874.0,\n            'f': \"513874.0\",\n        }],\n [{\n            'v': 3,\n            'f': \"3\",\n        },\n{\n            'v': 6700,\n            'f': \"6700\",\n        },\n\"33.200.049/0001-47\",\n\"HOTEIS OTHON S.A. - EM RECUPERA\\u00c7\\u00c3O JUDICIAL\",\n\"REAL\",\n\"MIL\",\n\"2020-01-01\",\n\"2020-12-31\",\n{\n            'v': 0.0,\n            'f': \"0.0\",\n        },\n{\n            'v': -18778.0,\n            'f': \"-18778.0\",\n        },\n{\n            'v': -32811.0,\n            'f': \"-32811.0\",\n        },\n{\n            'v': -66127.0,\n            'f': \"-66127.0\",\n        },\n{\n            'v': -2832.0,\n            'f': \"-2832.0\",\n        },\n{\n            'v': -86986.0,\n            'f': \"-86986.0\",\n        },\n{\n            'v': 1816.0,\n            'f': \"1816.0\",\n        },\n{\n            'v': 1816.0,\n            'f': \"1816.0\",\n        },\n{\n            'v': -90774.0,\n            'f': \"-90774.0\",\n        },\n{\n            'v': -4402.0,\n            'f': \"-4402.0\",\n        },\n{\n            'v': 1724.0,\n            'f': \"1724.0\",\n        },\n{\n            'v': 0.0,\n            'f': \"0.0\",\n        },\n{\n            'v': 35782.0,\n            'f': \"35782.0\",\n        }],\n [{\n            'v': 4,\n            'f': \"4\",\n        },\n{\n            'v': 7811,\n            'f': \"7811\",\n        },\n\"33.035.536/0001-00\",\n\"JOAO FORTES ENGENHARIA S.A. - EM RECUPERA\\u00c7\\u00c3O JUDICIAL\",\n\"REAL\",\n\"MIL\",\n\"2020-01-01\",\n\"2020-12-31\",\n{\n            'v': 0.0,\n            'f': \"0.0\",\n        },\n{\n            'v': 2240.0,\n            'f': \"2240.0\",\n        },\n{\n            'v': -25843.0,\n            'f': \"-25843.0\",\n        },\n{\n            'v': -18107.0,\n            'f': \"-18107.0\",\n        },\n{\n            'v': -42054.0,\n            'f': \"-42054.0\",\n        },\n{\n            'v': -149029.0,\n            'f': \"-149029.0\",\n        },\n{\n            'v': 1302.0,\n            'f': \"1302.0\",\n        },\n{\n            'v': 1302.0,\n            'f': \"1302.0\",\n        },\n{\n            'v': -168657.0,\n            'f': \"-168657.0\",\n        },\n{\n            'v': -5603.0,\n            'f': \"-5603.0\",\n        },\n{\n            'v': 14.0,\n            'f': \"14.0\",\n        },\n{\n            'v': 0.0,\n            'f': \"0.0\",\n        },\n{\n            'v': -5094.0,\n            'f': \"-5094.0\",\n        }],\n [{\n            'v': 5,\n            'f': \"5\",\n        },\n{\n            'v': 10472,\n            'f': \"10472\",\n        },\n\"60.500.139/0001-26\",\n\"SARAIVA LIVREIROS S.A. - EM RECUPERA\\u00c7\\u00c3O JUDICIAL\",\n\"REAL\",\n\"MIL\",\n\"2020-01-01\",\n\"2020-12-31\",\n{\n            'v': 0.0,\n            'f': \"0.0\",\n        },\n{\n            'v': 0.0,\n            'f': \"0.0\",\n        },\n{\n            'v': -1162.0,\n            'f': \"-1162.0\",\n        },\n{\n            'v': -3881.0,\n            'f': \"-3881.0\",\n        },\n{\n            'v': 0.0,\n            'f': \"0.0\",\n        },\n{\n            'v': -412376.0,\n            'f': \"-412376.0\",\n        },\n{\n            'v': 0.0,\n            'f': \"0.0\",\n        },\n{\n            'v': 0.0,\n            'f': \"0.0\",\n        },\n{\n            'v': -419595.0,\n            'f': \"-419595.0\",\n        },\n{\n            'v': -1456.0,\n            'f': \"-1456.0\",\n        },\n{\n            'v': 0.0,\n            'f': \"0.0\",\n        },\n{\n            'v': 0.0,\n            'f': \"0.0\",\n        },\n{\n            'v': 0.0,\n            'f': \"0.0\",\n        }],\n [{\n            'v': 6,\n            'f': \"6\",\n        },\n{\n            'v': 11207,\n            'f': \"11207\",\n        },\n\"33.111.246/0001-90\",\n\"TECNOSOLO ENGENHARIA S.A. - EMPRESA EM RECUPERA\\u00c7\\u00c3O JUDICIAL\",\n\"REAL\",\n\"MIL\",\n\"2020-01-01\",\n\"2020-12-31\",\n{\n            'v': 0.0,\n            'f': \"0.0\",\n        },\n{\n            'v': 0.0,\n            'f': \"0.0\",\n        },\n{\n            'v': 0.0,\n            'f': \"0.0\",\n        },\n{\n            'v': -3972.0,\n            'f': \"-3972.0\",\n        },\n{\n            'v': 0.0,\n            'f': \"0.0\",\n        },\n{\n            'v': -706.0,\n            'f': \"-706.0\",\n        },\n{\n            'v': 0.0,\n            'f': \"0.0\",\n        },\n{\n            'v': 0.0,\n            'f': \"0.0\",\n        },\n{\n            'v': -706.0,\n            'f': \"-706.0\",\n        },\n{\n            'v': 2839.0,\n            'f': \"2839.0\",\n        },\n{\n            'v': 0.0,\n            'f': \"0.0\",\n        },\n{\n            'v': 0.0,\n            'f': \"0.0\",\n        },\n{\n            'v': 0.0,\n            'f': \"0.0\",\n        }],\n [{\n            'v': 7,\n            'f': \"7\",\n        },\n{\n            'v': 11223,\n            'f': \"11223\",\n        },\n\"82.636.986/0001-55\",\n\"TEKA-TECELAGEM KUEHNRICH S.A. - EM RECUPERA\\u00c7\\u00c3O JUDICIAL\",\n\"REAL\",\n\"MIL\",\n\"2020-01-01\",\n\"2020-12-31\",\n{\n            'v': 0.0,\n            'f': \"0.0\",\n        },\n{\n            'v': -107742.0,\n            'f': \"-107742.0\",\n        },\n{\n            'v': -128851.0,\n            'f': \"-128851.0\",\n        },\n{\n            'v': -9437.0,\n            'f': \"-9437.0\",\n        },\n{\n            'v': -17702.0,\n            'f': \"-17702.0\",\n        },\n{\n            'v': -25618.0,\n            'f': \"-25618.0\",\n        },\n{\n            'v': 2975.0,\n            'f': \"2975.0\",\n        },\n{\n            'v': 2975.0,\n            'f': \"2975.0\",\n        },\n{\n            'v': -115783.0,\n            'f': \"-115783.0\",\n        },\n{\n            'v': -23714.0,\n            'f': \"-23714.0\",\n        },\n{\n            'v': 23362.0,\n            'f': \"23362.0\",\n        },\n{\n            'v': 0.0,\n            'f': \"0.0\",\n        },\n{\n            'v': 131978.0,\n            'f': \"131978.0\",\n        }],\n [{\n            'v': 8,\n            'f': \"8\",\n        },\n{\n            'v': 11312,\n            'f': \"11312\",\n        },\n\"76.535.764/0001-43\",\n\"OI S.A. - EM RECUPERA\\u00c7\\u00c3O JUDICIAL\",\n\"REAL\",\n\"MIL\",\n\"2020-01-01\",\n\"2020-12-31\",\n{\n            'v': 680.0,\n            'f': \"680.0\",\n        },\n{\n            'v': -2669653.0,\n            'f': \"-2669653.0\",\n        },\n{\n            'v': -14502225.0,\n            'f': \"-14502225.0\",\n        },\n{\n            'v': -873266.0,\n            'f': \"-873266.0\",\n        },\n{\n            'v': -586690.0,\n            'f': \"-586690.0\",\n        },\n{\n            'v': -11490951.0,\n            'f': \"-11490951.0\",\n        },\n{\n            'v': 3736483.0,\n            'f': \"3736483.0\",\n        },\n{\n            'v': 3737163.0,\n            'f': \"3737163.0\",\n        },\n{\n            'v': -10529963.0,\n            'f': \"-10529963.0\",\n        },\n{\n            'v': -921245.0,\n            'f': \"-921245.0\",\n        },\n{\n            'v': 2383573.0,\n            'f': \"2383573.0\",\n        },\n{\n            'v': 0.0,\n            'f': \"0.0\",\n        },\n{\n            'v': 3545254.0,\n            'f': \"3545254.0\",\n        }],\n [{\n            'v': 9,\n            'f': \"9\",\n        },\n{\n            'v': 11991,\n            'f': \"11991\",\n        },\n\"84.683.671/0001-94\",\n\"WETZEL S.A. EM RECUPERA\\u00c7\\u00c3O JUDICIAL\",\n\"REAL\",\n\"MIL\",\n\"2020-01-01\",\n\"2020-12-31\",\n{\n            'v': -5593.0,\n            'f': \"-5593.0\",\n        },\n{\n            'v': -129921.0,\n            'f': \"-129921.0\",\n        },\n{\n            'v': -11764.5,\n            'f': \"-11764.5\",\n        },\n{\n            'v': -14315.0,\n            'f': \"-14315.0\",\n        },\n{\n            'v': -12132.0,\n            'f': \"-12132.0\",\n        },\n{\n            'v': 30296.0,\n            'f': \"30296.0\",\n        },\n{\n            'v': -3030.0,\n            'f': \"-3030.0\",\n        },\n{\n            'v': -8623.0,\n            'f': \"-8623.0\",\n        },\n{\n            'v': 24873.0,\n            'f': \"24873.0\",\n        },\n{\n            'v': 22711.5,\n            'f': \"22711.5\",\n        },\n{\n            'v': 11333.0,\n            'f': \"11333.0\",\n        },\n{\n            'v': 0.0,\n            'f': \"0.0\",\n        },\n{\n            'v': 146264.0,\n            'f': \"146264.0\",\n        }],\n [{\n            'v': 10,\n            'f': \"10\",\n        },\n{\n            'v': 13030,\n            'f': \"13030\",\n        },\n\"89.723.993/0001-33\",\n\"CONSTRUTORA SULTEPA S.A. - EM RECUPERA\\u00c7\\u00c3O JUDICIAL\",\n\"REAL\",\n\"MIL\",\n\"2020-01-01\",\n\"2020-12-31\",\n{\n            'v': 0.0,\n            'f': \"0.0\",\n        },\n{\n            'v': -21456.0,\n            'f': \"-21456.0\",\n        },\n{\n            'v': -4352.0,\n            'f': \"-4352.0\",\n        },\n{\n            'v': -3154.0,\n            'f': \"-3154.0\",\n        },\n{\n            'v': 0.0,\n            'f': \"0.0\",\n        },\n{\n            'v': 40235.0,\n            'f': \"40235.0\",\n        },\n{\n            'v': -8310.0,\n            'f': \"-8310.0\",\n        },\n{\n            'v': -8310.0,\n            'f': \"-8310.0\",\n        },\n{\n            'v': 58940.0,\n            'f': \"58940.0\",\n        },\n{\n            'v': -48454.0,\n            'f': \"-48454.0\",\n        },\n{\n            'v': 71565.0,\n            'f': \"71565.0\",\n        },\n{\n            'v': 0.0,\n            'f': \"0.0\",\n        },\n{\n            'v': 15631.0,\n            'f': \"15631.0\",\n        }],\n [{\n            'v': 11,\n            'f': \"11\",\n        },\n{\n            'v': 17914,\n            'f': \"17914\",\n        },\n\"02.762.115/0001-49\",\n\"MMX MINERACAO E METALICOS S.A. - EM RECUPERA\\u00c7\\u00c3O JUDICIAL\",\n\"REAL\",\n\"MIL\",\n\"2020-01-01\",\n\"2020-12-31\",\n{\n            'v': 0.0,\n            'f': \"0.0\",\n        },\n{\n            'v': 0.0,\n            'f': \"0.0\",\n        },\n{\n            'v': -75453.0,\n            'f': \"-75453.0\",\n        },\n{\n            'v': 23233.0,\n            'f': \"23233.0\",\n        },\n{\n            'v': 0.0,\n            'f': \"0.0\",\n        },\n{\n            'v': -6943.0,\n            'f': \"-6943.0\",\n        },\n{\n            'v': 0.0,\n            'f': \"0.0\",\n        },\n{\n            'v': 0.0,\n            'f': \"0.0\",\n        },\n{\n            'v': -80868.0,\n            'f': \"-80868.0\",\n        },\n{\n            'v': -27686.0,\n            'f': \"-27686.0\",\n        },\n{\n            'v': 0.0,\n            'f': \"0.0\",\n        },\n{\n            'v': 0.0,\n            'f': \"0.0\",\n        },\n{\n            'v': 0.0,\n            'f': \"0.0\",\n        }],\n [{\n            'v': 12,\n            'f': \"12\",\n        },\n{\n            'v': 20060,\n            'f': \"20060\",\n        },\n\"89.463.822/0001-12\",\n\"LUPATECH S.A. - EM RECUPERA\\u00c7\\u00c3O JUDICIAL\",\n\"REAL\",\n\"MIL\",\n\"2020-01-01\",\n\"2020-12-31\",\n{\n            'v': 0.0,\n            'f': \"0.0\",\n        },\n{\n            'v': -38224.0,\n            'f': \"-38224.0\",\n        },\n{\n            'v': -65165.0,\n            'f': \"-65165.0\",\n        },\n{\n            'v': -16186.0,\n            'f': \"-16186.0\",\n        },\n{\n            'v': -6546.0,\n            'f': \"-6546.0\",\n        },\n{\n            'v': -13310.0,\n            'f': \"-13310.0\",\n        },\n{\n            'v': -4463.0,\n            'f': \"-4463.0\",\n        },\n{\n            'v': -4463.0,\n            'f': \"-4463.0\",\n        },\n{\n            'v': 20578.0,\n            'f': \"20578.0\",\n        },\n{\n            'v': -55818.0,\n            'f': \"-55818.0\",\n        },\n{\n            'v': 75590.0,\n            'f': \"75590.0\",\n        },\n{\n            'v': 0.0,\n            'f': \"0.0\",\n        },\n{\n            'v': 52320.0,\n            'f': \"52320.0\",\n        }],\n [{\n            'v': 13,\n            'f': \"13\",\n        },\n{\n            'v': 20621,\n            'f': \"20621\",\n        },\n\"22.266.175/0001-88\",\n\"FERTILIZANTES HERINGER S.A. - EM RECUPERA\\u00c7\\u00c3O JUDICIAL\",\n\"REAL\",\n\"MIL\",\n\"2020-01-01\",\n\"2020-12-31\",\n{\n            'v': 0.0,\n            'f': \"0.0\",\n        },\n{\n            'v': -1896292.0,\n            'f': \"-1896292.0\",\n        },\n{\n            'v': -299466.5,\n            'f': \"-299466.5\",\n        },\n{\n            'v': -77044.0,\n            'f': \"-77044.0\",\n        },\n{\n            'v': -93990.0,\n            'f': \"-93990.0\",\n        },\n{\n            'v': -163171.0,\n            'f': \"-163171.0\",\n        },\n{\n            'v': -5568.0,\n            'f': \"-5568.0\",\n        },\n{\n            'v': -5568.0,\n            'f': \"-5568.0\",\n        },\n{\n            'v': -199183.0,\n            'f': \"-199183.0\",\n        },\n{\n            'v': -10964.0,\n            'f': \"-10964.0\",\n        },\n{\n            'v': 18827.0,\n            'f': \"18827.0\",\n        },\n{\n            'v': 0.0,\n            'f': \"0.0\",\n        },\n{\n            'v': 2214192.0,\n            'f': \"2214192.0\",\n        }],\n [{\n            'v': 14,\n            'f': \"14\",\n        },\n{\n            'v': 21636,\n            'f': \"21636\",\n        },\n\"08.534.605/0001-74\",\n\"RENOVA ENERGIA S.A. - EM RECUPERA\\u00c7\\u00c3O JUDICIAL\",\n\"REAL\",\n\"MIL\",\n\"2020-01-01\",\n\"2020-12-31\",\n{\n            'v': 0.0,\n            'f': \"0.0\",\n        },\n{\n            'v': -639.0,\n            'f': \"-639.0\",\n        },\n{\n            'v': -2003.0,\n            'f': \"-2003.0\",\n        },\n{\n            'v': -62238.0,\n            'f': \"-62238.0\",\n        },\n{\n            'v': 0.0,\n            'f': \"0.0\",\n        },\n{\n            'v': 25789.0,\n            'f': \"25789.0\",\n        },\n{\n            'v': 0.0,\n            'f': \"0.0\",\n        },\n{\n            'v': 0.0,\n            'f': \"0.0\",\n        },\n{\n            'v': 22434.0,\n            'f': \"22434.0\",\n        },\n{\n            'v': 605.0,\n            'f': \"605.0\",\n        },\n{\n            'v': 0.0,\n            'f': \"0.0\",\n        },\n{\n            'v': 0.0,\n            'f': \"0.0\",\n        },\n{\n            'v': 0.0,\n            'f': \"0.0\",\n        }],\n [{\n            'v': 15,\n            'f': \"15\",\n        },\n{\n            'v': 22721,\n            'f': \"22721\",\n        },\n\"10.678.505/0001-63\",\n\"CONC RODOVIAS DO TIET\\u00ca S.A.- EM RECUPERA\\u00c7\\u00c3O JUDICIAL\",\n\"REAL\",\n\"MIL\",\n\"2020-01-01\",\n\"2020-12-31\",\n{\n            'v': 0.0,\n            'f': \"0.0\",\n        },\n{\n            'v': -232845.0,\n            'f': \"-232845.0\",\n        },\n{\n            'v': -215532.0,\n            'f': \"-215532.0\",\n        },\n{\n            'v': -15846.0,\n            'f': \"-15846.0\",\n        },\n{\n            'v': 0.0,\n            'f': \"0.0\",\n        },\n{\n            'v': -73274.0,\n            'f': \"-73274.0\",\n        },\n{\n            'v': 81189.0,\n            'f': \"81189.0\",\n        },\n{\n            'v': 81189.0,\n            'f': \"81189.0\",\n        },\n{\n            'v': -158252.0,\n            'f': \"-158252.0\",\n        },\n{\n            'v': -56476.0,\n            'f': \"-56476.0\",\n        },\n{\n            'v': 0.0,\n            'f': \"0.0\",\n        },\n{\n            'v': 0.0,\n            'f': \"0.0\",\n        },\n{\n            'v': 276555.0,\n            'f': \"276555.0\",\n        }]],\n        columns: [[\"number\", \"index\"], [\"number\", \"CD_CVM\"], [\"string\", \"CNPJ_CIA\"], [\"string\", \"DENOM_CIA\"], [\"string\", \"MOEDA\"], [\"string\", \"ESCALA_MOEDA\"], [\"string\", \"DT_INI_EXERC\"], [\"string\", \"DT_FIM_EXERC\"], [\"number\", \"Corrente\"], [\"number\", \"Custo dos Bens e/ou Servi\\u00e7os Vendidos\"], [\"number\", \"Despesas Financeiras\"], [\"number\", \"Despesas Gerais e Administrativas\"], [\"number\", \"Despesas com Vendas\"], [\"number\", \"Despesas/Receitas Operacionais\"], [\"number\", \"Diferido\"], [\"number\", \"Imposto de Renda e Contribui\\u00e7\\u00e3o Social sobre o Lucro\"], [\"number\", \"Lucro/Preju\\u00edzo do Per\\u00edodo\"], [\"number\", \"Outras Despesas Operacionais\"], [\"number\", \"Outras Receitas Operacionais\"], [\"number\", \"Perdas pela N\\u00e3o Recuperabilidade de Ativos\"], [\"number\", \"Receita de Venda de Bens e/ou Servi\\u00e7os\"]],\n        columnOptions: [{\"width\": \"1px\", \"className\": \"index_column\"}],\n        rowsPerPage: 25,\n        helpUrl: \"https://colab.research.google.com/notebooks/data_table.ipynb\",\n        suppressOutputScrolling: true,\n        minimumWidth: undefined,\n      });\n    ",
            "text/plain": [
              "<google.colab.data_table.DataTable object>"
            ],
            "text/html": [
              "<div>\n",
              "<style scoped>\n",
              "    .dataframe tbody tr th:only-of-type {\n",
              "        vertical-align: middle;\n",
              "    }\n",
              "\n",
              "    .dataframe tbody tr th {\n",
              "        vertical-align: top;\n",
              "    }\n",
              "\n",
              "    .dataframe thead th {\n",
              "        text-align: right;\n",
              "    }\n",
              "</style>\n",
              "<table border=\"1\" class=\"dataframe\">\n",
              "  <thead>\n",
              "    <tr style=\"text-align: right;\">\n",
              "      <th></th>\n",
              "      <th>CD_CVM</th>\n",
              "      <th>CNPJ_CIA</th>\n",
              "      <th>DENOM_CIA</th>\n",
              "      <th>MOEDA</th>\n",
              "      <th>ESCALA_MOEDA</th>\n",
              "      <th>DT_INI_EXERC</th>\n",
              "      <th>DT_FIM_EXERC</th>\n",
              "      <th>Corrente</th>\n",
              "      <th>Custo dos Bens e/ou Serviços Vendidos</th>\n",
              "      <th>Despesas Financeiras</th>\n",
              "      <th>Despesas Gerais e Administrativas</th>\n",
              "      <th>Despesas com Vendas</th>\n",
              "      <th>Despesas/Receitas Operacionais</th>\n",
              "      <th>Diferido</th>\n",
              "      <th>Imposto de Renda e Contribuição Social sobre o Lucro</th>\n",
              "      <th>Lucro/Prejuízo do Período</th>\n",
              "      <th>Outras Despesas Operacionais</th>\n",
              "      <th>Outras Receitas Operacionais</th>\n",
              "      <th>Perdas pela Não Recuperabilidade de Ativos</th>\n",
              "      <th>Receita de Venda de Bens e/ou Serviços</th>\n",
              "      <th>Receitas Financeiras</th>\n",
              "      <th>Resultado Antes do Resultado Financeiro e dos Tributos</th>\n",
              "      <th>Resultado Antes dos Tributos sobre o Lucro</th>\n",
              "      <th>Resultado Bruto</th>\n",
              "      <th>Resultado Financeiro</th>\n",
              "      <th>Resultado Líquido das Operações Continuadas</th>\n",
              "    </tr>\n",
              "  </thead>\n",
              "  <tbody>\n",
              "    <tr>\n",
              "      <th>0</th>\n",
              "      <td>1520</td>\n",
              "      <td>60.851.615/0001-53</td>\n",
              "      <td>BARDELLA S.A. INDUSTRIAS MECANICAS EM RECUPERA...</td>\n",
              "      <td>REAL</td>\n",
              "      <td>MIL</td>\n",
              "      <td>2020-01-01</td>\n",
              "      <td>2020-12-31</td>\n",
              "      <td>0.0</td>\n",
              "      <td>-24896.0</td>\n",
              "      <td>-18497.0</td>\n",
              "      <td>-13638.0</td>\n",
              "      <td>-2517.0</td>\n",
              "      <td>-51475.0</td>\n",
              "      <td>10821.0</td>\n",
              "      <td>10821.0</td>\n",
              "      <td>-65455.0</td>\n",
              "      <td>-39025.0</td>\n",
              "      <td>18478.0</td>\n",
              "      <td>0.0</td>\n",
              "      <td>13259.0</td>\n",
              "      <td>5333.0</td>\n",
              "      <td>-63112.0</td>\n",
              "      <td>-76276.0</td>\n",
              "      <td>-11637.0</td>\n",
              "      <td>-13164.0</td>\n",
              "      <td>-65455.0</td>\n",
              "    </tr>\n",
              "    <tr>\n",
              "      <th>1</th>\n",
              "      <td>4685</td>\n",
              "      <td>09.116.278/0001-01</td>\n",
              "      <td>CONPEL CIA NORDESTINA PAPEL - EM RECUPERAÇÃO J...</td>\n",
              "      <td>REAL</td>\n",
              "      <td>UNIDADE</td>\n",
              "      <td>2020-01-01</td>\n",
              "      <td>2020-12-31</td>\n",
              "      <td>0.0</td>\n",
              "      <td>-42666.0</td>\n",
              "      <td>-11813.0</td>\n",
              "      <td>-5340.0</td>\n",
              "      <td>-1613.0</td>\n",
              "      <td>-1907.0</td>\n",
              "      <td>644.0</td>\n",
              "      <td>644.0</td>\n",
              "      <td>-12031.0</td>\n",
              "      <td>0.0</td>\n",
              "      <td>5046.0</td>\n",
              "      <td>0.0</td>\n",
              "      <td>43709.0</td>\n",
              "      <td>2.0</td>\n",
              "      <td>-864.0</td>\n",
              "      <td>-12675.0</td>\n",
              "      <td>1043.0</td>\n",
              "      <td>-11811.0</td>\n",
              "      <td>-12031.0</td>\n",
              "    </tr>\n",
              "    <tr>\n",
              "      <th>2</th>\n",
              "      <td>5762</td>\n",
              "      <td>61.092.037/0001-81</td>\n",
              "      <td>ETERNIT S.A. - EM RECUPERAÇÃO JUDICIAL</td>\n",
              "      <td>REAL</td>\n",
              "      <td>MIL</td>\n",
              "      <td>2020-01-01</td>\n",
              "      <td>2020-12-31</td>\n",
              "      <td>-8939.0</td>\n",
              "      <td>-385450.0</td>\n",
              "      <td>-10846.0</td>\n",
              "      <td>-45675.0</td>\n",
              "      <td>-37443.0</td>\n",
              "      <td>38059.0</td>\n",
              "      <td>-12117.0</td>\n",
              "      <td>-21056.0</td>\n",
              "      <td>158751.0</td>\n",
              "      <td>49193.0</td>\n",
              "      <td>52061.0</td>\n",
              "      <td>0.0</td>\n",
              "      <td>513874.0</td>\n",
              "      <td>24170.0</td>\n",
              "      <td>166483.0</td>\n",
              "      <td>179807.0</td>\n",
              "      <td>128424.0</td>\n",
              "      <td>13324.0</td>\n",
              "      <td>158751.0</td>\n",
              "    </tr>\n",
              "    <tr>\n",
              "      <th>3</th>\n",
              "      <td>6700</td>\n",
              "      <td>33.200.049/0001-47</td>\n",
              "      <td>HOTEIS OTHON S.A. - EM RECUPERAÇÃO JUDICIAL</td>\n",
              "      <td>REAL</td>\n",
              "      <td>MIL</td>\n",
              "      <td>2020-01-01</td>\n",
              "      <td>2020-12-31</td>\n",
              "      <td>0.0</td>\n",
              "      <td>-18778.0</td>\n",
              "      <td>-32811.0</td>\n",
              "      <td>-66127.0</td>\n",
              "      <td>-2832.0</td>\n",
              "      <td>-86986.0</td>\n",
              "      <td>1816.0</td>\n",
              "      <td>1816.0</td>\n",
              "      <td>-90774.0</td>\n",
              "      <td>-4402.0</td>\n",
              "      <td>1724.0</td>\n",
              "      <td>0.0</td>\n",
              "      <td>35782.0</td>\n",
              "      <td>18621.0</td>\n",
              "      <td>-69982.0</td>\n",
              "      <td>-84172.0</td>\n",
              "      <td>17004.0</td>\n",
              "      <td>-14190.0</td>\n",
              "      <td>-82356.0</td>\n",
              "    </tr>\n",
              "    <tr>\n",
              "      <th>4</th>\n",
              "      <td>7811</td>\n",
              "      <td>33.035.536/0001-00</td>\n",
              "      <td>JOAO FORTES ENGENHARIA S.A. - EM RECUPERAÇÃO J...</td>\n",
              "      <td>REAL</td>\n",
              "      <td>MIL</td>\n",
              "      <td>2020-01-01</td>\n",
              "      <td>2020-12-31</td>\n",
              "      <td>0.0</td>\n",
              "      <td>2240.0</td>\n",
              "      <td>-25843.0</td>\n",
              "      <td>-18107.0</td>\n",
              "      <td>-42054.0</td>\n",
              "      <td>-149029.0</td>\n",
              "      <td>1302.0</td>\n",
              "      <td>1302.0</td>\n",
              "      <td>-168657.0</td>\n",
              "      <td>-5603.0</td>\n",
              "      <td>14.0</td>\n",
              "      <td>0.0</td>\n",
              "      <td>-5094.0</td>\n",
              "      <td>7767.0</td>\n",
              "      <td>-151883.0</td>\n",
              "      <td>-169959.0</td>\n",
              "      <td>-2854.0</td>\n",
              "      <td>-18076.0</td>\n",
              "      <td>-168657.0</td>\n",
              "    </tr>\n",
              "    <tr>\n",
              "      <th>5</th>\n",
              "      <td>10472</td>\n",
              "      <td>60.500.139/0001-26</td>\n",
              "      <td>SARAIVA LIVREIROS S.A. - EM RECUPERAÇÃO JUDICIAL</td>\n",
              "      <td>REAL</td>\n",
              "      <td>MIL</td>\n",
              "      <td>2020-01-01</td>\n",
              "      <td>2020-12-31</td>\n",
              "      <td>0.0</td>\n",
              "      <td>0.0</td>\n",
              "      <td>-1162.0</td>\n",
              "      <td>-3881.0</td>\n",
              "      <td>0.0</td>\n",
              "      <td>-412376.0</td>\n",
              "      <td>0.0</td>\n",
              "      <td>0.0</td>\n",
              "      <td>-419595.0</td>\n",
              "      <td>-1456.0</td>\n",
              "      <td>0.0</td>\n",
              "      <td>0.0</td>\n",
              "      <td>0.0</td>\n",
              "      <td>1456.0</td>\n",
              "      <td>-412376.0</td>\n",
              "      <td>-412082.0</td>\n",
              "      <td>0.0</td>\n",
              "      <td>294.0</td>\n",
              "      <td>-412082.0</td>\n",
              "    </tr>\n",
              "    <tr>\n",
              "      <th>6</th>\n",
              "      <td>11207</td>\n",
              "      <td>33.111.246/0001-90</td>\n",
              "      <td>TECNOSOLO ENGENHARIA S.A. - EMPRESA EM RECUPER...</td>\n",
              "      <td>REAL</td>\n",
              "      <td>MIL</td>\n",
              "      <td>2020-01-01</td>\n",
              "      <td>2020-12-31</td>\n",
              "      <td>0.0</td>\n",
              "      <td>0.0</td>\n",
              "      <td>0.0</td>\n",
              "      <td>-3972.0</td>\n",
              "      <td>0.0</td>\n",
              "      <td>-706.0</td>\n",
              "      <td>0.0</td>\n",
              "      <td>0.0</td>\n",
              "      <td>-706.0</td>\n",
              "      <td>2839.0</td>\n",
              "      <td>0.0</td>\n",
              "      <td>0.0</td>\n",
              "      <td>0.0</td>\n",
              "      <td>0.0</td>\n",
              "      <td>-706.0</td>\n",
              "      <td>-706.0</td>\n",
              "      <td>0.0</td>\n",
              "      <td>0.0</td>\n",
              "      <td>-706.0</td>\n",
              "    </tr>\n",
              "    <tr>\n",
              "      <th>7</th>\n",
              "      <td>11223</td>\n",
              "      <td>82.636.986/0001-55</td>\n",
              "      <td>TEKA-TECELAGEM KUEHNRICH S.A. - EM RECUPERAÇÃO...</td>\n",
              "      <td>REAL</td>\n",
              "      <td>MIL</td>\n",
              "      <td>2020-01-01</td>\n",
              "      <td>2020-12-31</td>\n",
              "      <td>0.0</td>\n",
              "      <td>-107742.0</td>\n",
              "      <td>-128851.0</td>\n",
              "      <td>-9437.0</td>\n",
              "      <td>-17702.0</td>\n",
              "      <td>-25618.0</td>\n",
              "      <td>2975.0</td>\n",
              "      <td>2975.0</td>\n",
              "      <td>-115783.0</td>\n",
              "      <td>-23714.0</td>\n",
              "      <td>23362.0</td>\n",
              "      <td>0.0</td>\n",
              "      <td>131978.0</td>\n",
              "      <td>11475.0</td>\n",
              "      <td>-1382.0</td>\n",
              "      <td>-118758.0</td>\n",
              "      <td>24236.0</td>\n",
              "      <td>-117376.0</td>\n",
              "      <td>-115783.0</td>\n",
              "    </tr>\n",
              "    <tr>\n",
              "      <th>8</th>\n",
              "      <td>11312</td>\n",
              "      <td>76.535.764/0001-43</td>\n",
              "      <td>OI S.A. - EM RECUPERAÇÃO JUDICIAL</td>\n",
              "      <td>REAL</td>\n",
              "      <td>MIL</td>\n",
              "      <td>2020-01-01</td>\n",
              "      <td>2020-12-31</td>\n",
              "      <td>680.0</td>\n",
              "      <td>-2669653.0</td>\n",
              "      <td>-14502225.0</td>\n",
              "      <td>-873266.0</td>\n",
              "      <td>-586690.0</td>\n",
              "      <td>-11490951.0</td>\n",
              "      <td>3736483.0</td>\n",
              "      <td>3737163.0</td>\n",
              "      <td>-10529963.0</td>\n",
              "      <td>-921245.0</td>\n",
              "      <td>2383573.0</td>\n",
              "      <td>0.0</td>\n",
              "      <td>3545254.0</td>\n",
              "      <td>10850449.0</td>\n",
              "      <td>-10615350.0</td>\n",
              "      <td>-14267126.0</td>\n",
              "      <td>875601.0</td>\n",
              "      <td>-3651776.0</td>\n",
              "      <td>-10529963.0</td>\n",
              "    </tr>\n",
              "    <tr>\n",
              "      <th>9</th>\n",
              "      <td>11991</td>\n",
              "      <td>84.683.671/0001-94</td>\n",
              "      <td>WETZEL S.A. EM RECUPERAÇÃO JUDICIAL</td>\n",
              "      <td>REAL</td>\n",
              "      <td>MIL</td>\n",
              "      <td>2020-01-01</td>\n",
              "      <td>2020-12-31</td>\n",
              "      <td>-5593.0</td>\n",
              "      <td>-129921.0</td>\n",
              "      <td>-11764.5</td>\n",
              "      <td>-14315.0</td>\n",
              "      <td>-12132.0</td>\n",
              "      <td>30296.0</td>\n",
              "      <td>-3030.0</td>\n",
              "      <td>-8623.0</td>\n",
              "      <td>24873.0</td>\n",
              "      <td>22711.5</td>\n",
              "      <td>11333.0</td>\n",
              "      <td>0.0</td>\n",
              "      <td>146264.0</td>\n",
              "      <td>189.0</td>\n",
              "      <td>46639.0</td>\n",
              "      <td>33496.0</td>\n",
              "      <td>16343.0</td>\n",
              "      <td>-13143.0</td>\n",
              "      <td>24873.0</td>\n",
              "    </tr>\n",
              "    <tr>\n",
              "      <th>10</th>\n",
              "      <td>13030</td>\n",
              "      <td>89.723.993/0001-33</td>\n",
              "      <td>CONSTRUTORA SULTEPA S.A. - EM RECUPERAÇÃO JUDI...</td>\n",
              "      <td>REAL</td>\n",
              "      <td>MIL</td>\n",
              "      <td>2020-01-01</td>\n",
              "      <td>2020-12-31</td>\n",
              "      <td>0.0</td>\n",
              "      <td>-21456.0</td>\n",
              "      <td>-4352.0</td>\n",
              "      <td>-3154.0</td>\n",
              "      <td>0.0</td>\n",
              "      <td>40235.0</td>\n",
              "      <td>-8310.0</td>\n",
              "      <td>-8310.0</td>\n",
              "      <td>58940.0</td>\n",
              "      <td>-48454.0</td>\n",
              "      <td>71565.0</td>\n",
              "      <td>0.0</td>\n",
              "      <td>15631.0</td>\n",
              "      <td>37192.0</td>\n",
              "      <td>34410.0</td>\n",
              "      <td>67250.0</td>\n",
              "      <td>-5825.0</td>\n",
              "      <td>32840.0</td>\n",
              "      <td>58940.0</td>\n",
              "    </tr>\n",
              "    <tr>\n",
              "      <th>11</th>\n",
              "      <td>17914</td>\n",
              "      <td>02.762.115/0001-49</td>\n",
              "      <td>MMX MINERACAO E METALICOS S.A. - EM RECUPERAÇÃ...</td>\n",
              "      <td>REAL</td>\n",
              "      <td>MIL</td>\n",
              "      <td>2020-01-01</td>\n",
              "      <td>2020-12-31</td>\n",
              "      <td>0.0</td>\n",
              "      <td>0.0</td>\n",
              "      <td>-75453.0</td>\n",
              "      <td>23233.0</td>\n",
              "      <td>0.0</td>\n",
              "      <td>-6943.0</td>\n",
              "      <td>0.0</td>\n",
              "      <td>0.0</td>\n",
              "      <td>-80868.0</td>\n",
              "      <td>-27686.0</td>\n",
              "      <td>0.0</td>\n",
              "      <td>0.0</td>\n",
              "      <td>0.0</td>\n",
              "      <td>1528.0</td>\n",
              "      <td>-6943.0</td>\n",
              "      <td>-80868.0</td>\n",
              "      <td>0.0</td>\n",
              "      <td>-73925.0</td>\n",
              "      <td>-80868.0</td>\n",
              "    </tr>\n",
              "    <tr>\n",
              "      <th>12</th>\n",
              "      <td>20060</td>\n",
              "      <td>89.463.822/0001-12</td>\n",
              "      <td>LUPATECH S.A. - EM RECUPERAÇÃO JUDICIAL</td>\n",
              "      <td>REAL</td>\n",
              "      <td>MIL</td>\n",
              "      <td>2020-01-01</td>\n",
              "      <td>2020-12-31</td>\n",
              "      <td>0.0</td>\n",
              "      <td>-38224.0</td>\n",
              "      <td>-65165.0</td>\n",
              "      <td>-16186.0</td>\n",
              "      <td>-6546.0</td>\n",
              "      <td>-13310.0</td>\n",
              "      <td>-4463.0</td>\n",
              "      <td>-4463.0</td>\n",
              "      <td>20578.0</td>\n",
              "      <td>-55818.0</td>\n",
              "      <td>75590.0</td>\n",
              "      <td>0.0</td>\n",
              "      <td>52320.0</td>\n",
              "      <td>103625.5</td>\n",
              "      <td>786.0</td>\n",
              "      <td>25041.0</td>\n",
              "      <td>14096.0</td>\n",
              "      <td>24255.0</td>\n",
              "      <td>20578.0</td>\n",
              "    </tr>\n",
              "    <tr>\n",
              "      <th>13</th>\n",
              "      <td>20621</td>\n",
              "      <td>22.266.175/0001-88</td>\n",
              "      <td>FERTILIZANTES HERINGER S.A. - EM RECUPERAÇÃO J...</td>\n",
              "      <td>REAL</td>\n",
              "      <td>MIL</td>\n",
              "      <td>2020-01-01</td>\n",
              "      <td>2020-12-31</td>\n",
              "      <td>0.0</td>\n",
              "      <td>-1896292.0</td>\n",
              "      <td>-299466.5</td>\n",
              "      <td>-77044.0</td>\n",
              "      <td>-93990.0</td>\n",
              "      <td>-163171.0</td>\n",
              "      <td>-5568.0</td>\n",
              "      <td>-5568.0</td>\n",
              "      <td>-199183.0</td>\n",
              "      <td>-10964.0</td>\n",
              "      <td>18827.0</td>\n",
              "      <td>0.0</td>\n",
              "      <td>2214192.0</td>\n",
              "      <td>78492.0</td>\n",
              "      <td>154729.0</td>\n",
              "      <td>-193615.0</td>\n",
              "      <td>317900.0</td>\n",
              "      <td>-348344.0</td>\n",
              "      <td>-199183.0</td>\n",
              "    </tr>\n",
              "    <tr>\n",
              "      <th>14</th>\n",
              "      <td>21636</td>\n",
              "      <td>08.534.605/0001-74</td>\n",
              "      <td>RENOVA ENERGIA S.A. - EM RECUPERAÇÃO JUDICIAL</td>\n",
              "      <td>REAL</td>\n",
              "      <td>MIL</td>\n",
              "      <td>2020-01-01</td>\n",
              "      <td>2020-12-31</td>\n",
              "      <td>0.0</td>\n",
              "      <td>-639.0</td>\n",
              "      <td>-2003.0</td>\n",
              "      <td>-62238.0</td>\n",
              "      <td>0.0</td>\n",
              "      <td>25789.0</td>\n",
              "      <td>0.0</td>\n",
              "      <td>0.0</td>\n",
              "      <td>22434.0</td>\n",
              "      <td>605.0</td>\n",
              "      <td>0.0</td>\n",
              "      <td>0.0</td>\n",
              "      <td>0.0</td>\n",
              "      <td>-713.0</td>\n",
              "      <td>25150.0</td>\n",
              "      <td>22434.0</td>\n",
              "      <td>-639.0</td>\n",
              "      <td>-2716.0</td>\n",
              "      <td>22434.0</td>\n",
              "    </tr>\n",
              "    <tr>\n",
              "      <th>15</th>\n",
              "      <td>22721</td>\n",
              "      <td>10.678.505/0001-63</td>\n",
              "      <td>CONC RODOVIAS DO TIETÊ S.A.- EM RECUPERAÇÃO JU...</td>\n",
              "      <td>REAL</td>\n",
              "      <td>MIL</td>\n",
              "      <td>2020-01-01</td>\n",
              "      <td>2020-12-31</td>\n",
              "      <td>0.0</td>\n",
              "      <td>-232845.0</td>\n",
              "      <td>-215532.0</td>\n",
              "      <td>-15846.0</td>\n",
              "      <td>0.0</td>\n",
              "      <td>-73274.0</td>\n",
              "      <td>81189.0</td>\n",
              "      <td>81189.0</td>\n",
              "      <td>-158252.0</td>\n",
              "      <td>-56476.0</td>\n",
              "      <td>0.0</td>\n",
              "      <td>0.0</td>\n",
              "      <td>276555.0</td>\n",
              "      <td>5655.0</td>\n",
              "      <td>-29564.0</td>\n",
              "      <td>-239441.0</td>\n",
              "      <td>43710.0</td>\n",
              "      <td>-209877.0</td>\n",
              "      <td>-158252.0</td>\n",
              "    </tr>\n",
              "  </tbody>\n",
              "</table>\n",
              "</div>"
            ]
          },
          "metadata": {},
          "execution_count": 82
        }
      ]
    },
    {
      "cell_type": "code",
      "source": [
        "dre_20 = dre_20.drop(['CD_CVM','CNPJ_CIA','DENOM_CIA','MOEDA','ESCALA_MOEDA','DT_INI_EXERC','DT_FIM_EXERC'], axis=1)"
      ],
      "metadata": {
        "id": "Tp74YbRzrLxD"
      },
      "execution_count": null,
      "outputs": []
    },
    {
      "cell_type": "code",
      "source": [
        "teste_empresa = dre_20.iloc[0]\n",
        "ind_prediction(teste_empresa)"
      ],
      "metadata": {
        "colab": {
          "base_uri": "https://localhost:8080/"
        },
        "id": "qRtaej1Wq8gw",
        "outputId": "589a46a4-ae35-4485-f8bd-4dce5864df83"
      },
      "execution_count": 77,
      "outputs": [
        {
          "output_type": "execute_result",
          "data": {
            "text/plain": [
              "0.4856613760169589"
            ]
          },
          "metadata": {},
          "execution_count": 77
        }
      ]
    },
    {
      "cell_type": "markdown",
      "source": [
        "#FIM\n",
        "\n",
        "Dados publicos RF (https://github.com/fabioserpa/CNPJ-full)"
      ],
      "metadata": {
        "id": "22CJ_Wuucra2"
      }
    },
    {
      "cell_type": "code",
      "source": [
        "# Baggin : Bootstrap AGGregating\n",
        "\n",
        "from sklearn.ensemble import RandomForestRegressor\n",
        "from sklearn.metrics import mean_absolute_error\n",
        "\n",
        "def score_dataset (x_train, x_test, y_train, y_test):\n",
        "  model = RandomForestRegressor(n_estimators=100, random_state=0)\n",
        "  model.fit(x_train, y_train)\n",
        "  preds = model.predict(x_test)\n",
        "  return mean_absolute_error(y_test, preds) #Quanto menor melhor"
      ],
      "metadata": {
        "id": "Cl61k1bCBc12"
      },
      "execution_count": null,
      "outputs": []
    }
  ]
}